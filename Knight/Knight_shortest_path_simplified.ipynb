{
 "cells": [
  {
   "cell_type": "code",
   "execution_count": 21,
   "metadata": {},
   "outputs": [],
   "source": [
    "# Python3 code to find minimum steps to reach \n",
    "# to specific cell in minimum moves by Knight \n",
    "class cell: \n",
    "\n",
    "    def __init__(self, x = 0, y = 0, dist = 0): \n",
    "        self.x = x \n",
    "        self.y = y \n",
    "        self.dist = dist \n",
    "\n",
    "\n",
    "# checks whether given position is \n",
    "# inside the board \n",
    "def isInside(x, y, N): \n",
    "    if (x >= 0 and x <= N-1 and\n",
    "        y >= 0 and y <= N-1): \n",
    "        return True\n",
    "    return False\n",
    "\n",
    "# Method returns minimum step to reach \n",
    "# target position \n",
    "def minStepToReachTarget(knightpos, \n",
    "                        targetpos, N, a, b): \n",
    "\n",
    "    #all possible movments for the knight \n",
    "    dx = [b, b, -b, -b, a, a, -a, -a] \n",
    "    dy = [a, -a, a, -a, b, -b, b, -b] \n",
    "\n",
    "    queue = [] \n",
    "\n",
    "    # push starting position of knight \n",
    "    # with 0 distance \n",
    "    queue.append(cell(knightpos[0], knightpos[1], 0)) \n",
    "\n",
    "    # make all cell unvisited \n",
    "    visited = [[False for i in range(N)] \n",
    "                    for j in range(N)] \n",
    "\n",
    "    # visit starting state \n",
    "    visited[knightpos[0]][knightpos[1]] = True\n",
    "\n",
    "    # loop untill we have one element in queue \n",
    "    while queue: \n",
    "\n",
    "        t = queue.pop(0) \n",
    "\n",
    "        # if current cell is equal to target \n",
    "        # cell, return its distance \n",
    "        if(t.x, t.y) == (targetpos[0], targetpos[1]): \n",
    "            return t.dist \n",
    "\n",
    "        # iterate for all reachable states \n",
    "        for i in range(8): \n",
    "\n",
    "            x = t.x + dx[i] \n",
    "            y = t.y + dy[i] \n",
    "\n",
    "            if(isInside(x, y, N) and not visited[x][y]): \n",
    "                visited[x][y] = True\n",
    "                queue.append(cell(x, y, t.dist + 1))\n",
    "    return 0\n",
    "\n",
    "\n",
    "# Driver Code\t \n",
    "# if __name__=='__main__': \n",
    "# \tN = 25\n",
    "# \tknightpos = [0, 0] \n",
    "# \ttargetpos = [24, 24]\n",
    "# \ta, b = 4, 7\n",
    "# \tprint(minStepToReachTarget(knightpos, \n",
    "# \t\t\t\t\t\t\ttargetpos, N,a,b)) \n",
    "\n",
    "# This code is contributed by \n",
    "# Kaustav kumar Chanda "
   ]
  },
  {
   "cell_type": "code",
   "execution_count": 51,
   "metadata": {},
   "outputs": [
    {
     "ename": "AttributeError",
     "evalue": "module 'numpy' has no attribute 'zero'",
     "output_type": "error",
     "traceback": [
      "\u001b[0;31m---------------------------------------------------------------------------\u001b[0m",
      "\u001b[0;31mAttributeError\u001b[0m                            Traceback (most recent call last)",
      "\u001b[0;32m<ipython-input-51-0a75d7c32149>\u001b[0m in \u001b[0;36m<module>\u001b[0;34m\u001b[0m\n\u001b[1;32m      4\u001b[0m \u001b[0mtargetpos\u001b[0m \u001b[0;34m=\u001b[0m \u001b[0;34m[\u001b[0m\u001b[0mN\u001b[0m\u001b[0;34m-\u001b[0m\u001b[0;36m1\u001b[0m\u001b[0;34m,\u001b[0m \u001b[0mN\u001b[0m\u001b[0;34m-\u001b[0m\u001b[0;36m1\u001b[0m\u001b[0;34m]\u001b[0m\u001b[0;34m\u001b[0m\u001b[0;34m\u001b[0m\u001b[0m\n\u001b[1;32m      5\u001b[0m print(minStepToReachTarget(knightpos, \n\u001b[0;32m----> 6\u001b[0;31m                         targetpos, N,a,b)) \n\u001b[0m",
      "\u001b[0;32m<ipython-input-50-55a92e7acc96>\u001b[0m in \u001b[0;36mminStepToReachTarget\u001b[0;34m(knightpos, targetpos, N, a, b)\u001b[0m\n\u001b[1;32m     36\u001b[0m \u001b[0;34m\u001b[0m\u001b[0m\n\u001b[1;32m     37\u001b[0m     \u001b[0;31m# make all cell unvisited\u001b[0m\u001b[0;34m\u001b[0m\u001b[0;34m\u001b[0m\u001b[0;34m\u001b[0m\u001b[0m\n\u001b[0;32m---> 38\u001b[0;31m     \u001b[0mvisited\u001b[0m \u001b[0;34m=\u001b[0m \u001b[0mnp\u001b[0m\u001b[0;34m.\u001b[0m\u001b[0mzero\u001b[0m\u001b[0;34m(\u001b[0m\u001b[0mN\u001b[0m\u001b[0;34m)\u001b[0m\u001b[0;34m\u001b[0m\u001b[0;34m\u001b[0m\u001b[0m\n\u001b[0m\u001b[1;32m     39\u001b[0m \u001b[0;34m\u001b[0m\u001b[0m\n\u001b[1;32m     40\u001b[0m     \u001b[0;31m# visit starting state\u001b[0m\u001b[0;34m\u001b[0m\u001b[0;34m\u001b[0m\u001b[0;34m\u001b[0m\u001b[0m\n",
      "\u001b[0;31mAttributeError\u001b[0m: module 'numpy' has no attribute 'zero'"
     ]
    }
   ],
   "source": [
    "N = 10\n",
    "a, b = 7, 2\n",
    "knightpos = [0, 0] \n",
    "targetpos = [N-1, N-1]\n",
    "print(minStepToReachTarget(knightpos, \n",
    "                        targetpos, N,a,b)) "
   ]
  },
  {
   "cell_type": "code",
   "execution_count": 40,
   "metadata": {},
   "outputs": [],
   "source": [
    "N = 25\n",
    "knightpos = [0, 0] \n",
    "targetpos = [N-1, N-1]\n",
    "ans = []\n",
    "for b in range(0,N):\n",
    "    for a in range(0, b+1):\n",
    "        ans.append(minStepToReachTarget(knightpos, \n",
    "                        targetpos, N,a,b)) "
   ]
  },
  {
   "cell_type": "code",
   "execution_count": 32,
   "metadata": {},
   "outputs": [
    {
     "data": {
      "text/plain": [
       "True"
      ]
     },
     "execution_count": 32,
     "metadata": {},
     "output_type": "execute_result"
    }
   ],
   "source": [
    "len(ans) == 25*12"
   ]
  },
  {
   "cell_type": "code",
   "execution_count": 37,
   "metadata": {},
   "outputs": [
    {
     "data": {
      "text/plain": [
       "2"
      ]
     },
     "execution_count": 37,
     "metadata": {},
     "output_type": "execute_result"
    }
   ],
   "source": [
    "len([i for i in ans if i == 0])"
   ]
  },
  {
   "cell_type": "code",
   "execution_count": 41,
   "metadata": {},
   "outputs": [
    {
     "data": {
      "text/plain": [
       "2087"
      ]
     },
     "execution_count": 41,
     "metadata": {},
     "output_type": "execute_result"
    }
   ],
   "source": [
    "sum(ans)"
   ]
  },
  {
   "cell_type": "code",
   "execution_count": 68,
   "metadata": {},
   "outputs": [],
   "source": [
    "# Python3 code to find minimum steps to reach \n",
    "# to specific cell in minimum moves by Knight \n",
    "class cell: \n",
    "\n",
    "    def __init__(self, x = 0, y = 0, dist = 0): \n",
    "        self.x = x \n",
    "        self.y = y \n",
    "        self.dist = dist \n",
    "        \n",
    "import numpy as np\n",
    "\n",
    "# checks whether given position is \n",
    "# inside the board \n",
    "def isInside(pos, N): \n",
    "    '''\n",
    "    pos: an array of the position\n",
    "    '''\n",
    "    return 0 <= pos[0] <= N-1 and  0 <= pos[1] <= N-1\n",
    "\n",
    "# Method returns minimum step to reach \n",
    "# target position \n",
    "def minStepToReachTarget(knightpos, \n",
    "                        targetpos, N, a, b): \n",
    "\n",
    "    #all possible movments for the knight  \n",
    "    move = [[a,b],[-a,b],[a,-b],[-a,-b],[b,a],[-b,a],[b,-a],[-b,-a]]\n",
    "    moves = np.array(move)\n",
    "\n",
    "    queue = [] \n",
    "\n",
    "    # push starting position of knight \n",
    "    # with 0 distance \n",
    "    queue.append(cell(knightpos[0], knightpos[1], 0)) \n",
    "\n",
    "    # make all cell unvisited \n",
    "    visited = np.zeros((N,N)) \n",
    "\n",
    "    # visit starting state \n",
    "    visited[knightpos[0],knightpos[1]] = 1\n",
    "\n",
    "    # loop untill we have one element in queue \n",
    "    while queue: \n",
    "\n",
    "        t = queue.pop(0) \n",
    "\n",
    "        # if current cell is equal to target \n",
    "        # cell, return its distance \n",
    "        if(t.x, t.y) == (targetpos[0], targetpos[1]): \n",
    "            return t.dist \n",
    "\n",
    "        # iterate for all reachable states \n",
    "        \n",
    "        possible_new_pos = np.array([t.x, t.y]) + moves\n",
    "        \n",
    "        for new_pos in possible_new_pos:\n",
    "            if (isInside(new_pos, N)) and not visited[new_pos[0],new_pos[1]]:\n",
    "                visited[new_pos[0],new_pos[1]] = 1\n",
    "                queue.append(cell(new_pos[0], new_pos[1], t.dist + 1))\n",
    "                \n",
    "    return 0\n",
    " "
   ]
  },
  {
   "cell_type": "code",
   "execution_count": 69,
   "metadata": {},
   "outputs": [
    {
     "name": "stdout",
     "output_type": "stream",
     "text": [
      "67\n"
     ]
    }
   ],
   "source": [
    "N = 10000\n",
    "a, b = 4, 7\n",
    "knightpos = [0, 0] \n",
    "targetpos = [N-1, N-1]\n",
    "print(minStepToReachTarget(knightpos, \n",
    "                        targetpos, N,a,b)) "
   ]
  },
  {
   "cell_type": "code",
   "execution_count": 47,
   "metadata": {},
   "outputs": [],
   "source": [
    "dx = [b, b, -b, -b, a, a, -a, -a] \n",
    "dy = [a, -a, a, -a, b, -b, b, -b] "
   ]
  },
  {
   "cell_type": "code",
   "execution_count": 49,
   "metadata": {},
   "outputs": [
    {
     "name": "stdout",
     "output_type": "stream",
     "text": [
      "(2, 7)\n",
      "(2, -7)\n",
      "(-2, 7)\n",
      "(-2, -7)\n",
      "(7, 2)\n",
      "(7, -2)\n",
      "(-7, 2)\n",
      "(-7, -2)\n"
     ]
    }
   ],
   "source": [
    "for i in zip(dx,dy):\n",
    "    print(i)"
   ]
  },
  {
   "cell_type": "code",
   "execution_count": 59,
   "metadata": {},
   "outputs": [
    {
     "ename": "TypeError",
     "evalue": "data type not understood",
     "output_type": "error",
     "traceback": [
      "\u001b[0;31m---------------------------------------------------------------------------\u001b[0m",
      "\u001b[0;31mTypeError\u001b[0m                                 Traceback (most recent call last)",
      "\u001b[0;32m<ipython-input-59-da4dc5387f51>\u001b[0m in \u001b[0;36m<module>\u001b[0;34m\u001b[0m\n\u001b[0;32m----> 1\u001b[0;31m \u001b[0mk\u001b[0m \u001b[0;34m=\u001b[0m \u001b[0mnp\u001b[0m\u001b[0;34m.\u001b[0m\u001b[0mzeros\u001b[0m\u001b[0;34m(\u001b[0m\u001b[0;36m4\u001b[0m\u001b[0;34m,\u001b[0m\u001b[0;36m4\u001b[0m\u001b[0;34m)\u001b[0m\u001b[0;34m\u001b[0m\u001b[0;34m\u001b[0m\u001b[0m\n\u001b[0m",
      "\u001b[0;31mTypeError\u001b[0m: data type not understood"
     ]
    }
   ],
   "source": [
    "k = np.zeros(4,4)"
   ]
  },
  {
   "cell_type": "code",
   "execution_count": 63,
   "metadata": {},
   "outputs": [
    {
     "data": {
      "text/plain": [
       "array([[2, 4],\n",
       "       [4, 6]])"
      ]
     },
     "execution_count": 63,
     "metadata": {},
     "output_type": "execute_result"
    }
   ],
   "source": [
    "np.array([1,2]) + np.array([[1,2],[3,4]])"
   ]
  },
  {
   "cell_type": "code",
   "execution_count": 65,
   "metadata": {},
   "outputs": [
    {
     "data": {
      "text/plain": [
       "array([[0., 0., 0., 0.],\n",
       "       [0., 0., 0., 0.]])"
      ]
     },
     "execution_count": 65,
     "metadata": {},
     "output_type": "execute_result"
    }
   ],
   "source": [
    "a = np.zeros((4,4))\n",
    "b = np.array([1,2])\n",
    "a[b]"
   ]
  },
  {
   "cell_type": "code",
   "execution_count": null,
   "metadata": {},
   "outputs": [],
   "source": []
  }
 ],
 "metadata": {
  "kernelspec": {
   "display_name": "Python 3",
   "language": "python",
   "name": "python3"
  },
  "language_info": {
   "codemirror_mode": {
    "name": "ipython",
    "version": 3
   },
   "file_extension": ".py",
   "mimetype": "text/x-python",
   "name": "python",
   "nbconvert_exporter": "python",
   "pygments_lexer": "ipython3",
   "version": "3.7.3"
  }
 },
 "nbformat": 4,
 "nbformat_minor": 2
}
