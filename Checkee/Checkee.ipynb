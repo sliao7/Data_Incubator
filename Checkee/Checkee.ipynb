{
 "cells": [
  {
   "cell_type": "code",
   "execution_count": 1,
   "metadata": {
    "ExecuteTime": {
     "end_time": "2019-02-09T14:26:35.804107Z",
     "start_time": "2019-02-09T14:26:35.735418Z"
    }
   },
   "outputs": [],
   "source": [
    "import pandas as pd\n",
    "import matplotlib\n",
    "import matplotlib.pyplot as plt\n",
    "import numpy as np\n",
    "from collections import Counter"
   ]
  },
  {
   "cell_type": "markdown",
   "metadata": {},
   "source": [
    "# Read all data and store in a big dataframe"
   ]
  },
  {
   "cell_type": "code",
   "execution_count": 59,
   "metadata": {},
   "outputs": [],
   "source": [
    "big_df = pd.read_csv('CheckeeData.csv')"
   ]
  },
  {
   "cell_type": "code",
   "execution_count": 60,
   "metadata": {},
   "outputs": [
    {
     "data": {
      "text/html": [
       "<div>\n",
       "<style scoped>\n",
       "    .dataframe tbody tr th:only-of-type {\n",
       "        vertical-align: middle;\n",
       "    }\n",
       "\n",
       "    .dataframe tbody tr th {\n",
       "        vertical-align: top;\n",
       "    }\n",
       "\n",
       "    .dataframe thead th {\n",
       "        text-align: right;\n",
       "    }\n",
       "</style>\n",
       "<table border=\"1\" class=\"dataframe\">\n",
       "  <thead>\n",
       "    <tr style=\"text-align: right;\">\n",
       "      <th></th>\n",
       "      <th>check_date</th>\n",
       "      <th>complete_date</th>\n",
       "      <th>loc</th>\n",
       "      <th>major</th>\n",
       "      <th>status</th>\n",
       "      <th>type</th>\n",
       "      <th>visa</th>\n",
       "      <th>waiting_days</th>\n",
       "    </tr>\n",
       "  </thead>\n",
       "  <tbody>\n",
       "    <tr>\n",
       "      <th>0</th>\n",
       "      <td>2015-07-01</td>\n",
       "      <td>2015-08-10</td>\n",
       "      <td>ShenYang</td>\n",
       "      <td>Molecular Biolgoy</td>\n",
       "      <td>Clear</td>\n",
       "      <td>New</td>\n",
       "      <td>H1</td>\n",
       "      <td>40</td>\n",
       "    </tr>\n",
       "    <tr>\n",
       "      <th>1</th>\n",
       "      <td>2015-07-01</td>\n",
       "      <td>2015-07-31</td>\n",
       "      <td>ShenYang</td>\n",
       "      <td>Biomedical Engineering</td>\n",
       "      <td>Clear</td>\n",
       "      <td>Renewal</td>\n",
       "      <td>F1</td>\n",
       "      <td>30</td>\n",
       "    </tr>\n",
       "    <tr>\n",
       "      <th>2</th>\n",
       "      <td>2015-07-01</td>\n",
       "      <td>0000-00-00</td>\n",
       "      <td>BeiJing</td>\n",
       "      <td>NaN</td>\n",
       "      <td>Pending</td>\n",
       "      <td>New</td>\n",
       "      <td>B2</td>\n",
       "      <td>1312</td>\n",
       "    </tr>\n",
       "    <tr>\n",
       "      <th>3</th>\n",
       "      <td>2015-07-01</td>\n",
       "      <td>2015-07-14</td>\n",
       "      <td>ShenYang</td>\n",
       "      <td>Project Manangement</td>\n",
       "      <td>Clear</td>\n",
       "      <td>New</td>\n",
       "      <td>F1</td>\n",
       "      <td>13</td>\n",
       "    </tr>\n",
       "    <tr>\n",
       "      <th>4</th>\n",
       "      <td>2015-07-01</td>\n",
       "      <td>2015-08-19</td>\n",
       "      <td>Others</td>\n",
       "      <td>Computer Engineering</td>\n",
       "      <td>Clear</td>\n",
       "      <td>Renewal</td>\n",
       "      <td>F1</td>\n",
       "      <td>49</td>\n",
       "    </tr>\n",
       "  </tbody>\n",
       "</table>\n",
       "</div>"
      ],
      "text/plain": [
       "   check_date complete_date       loc                   major   status  \\\n",
       "0  2015-07-01    2015-08-10  ShenYang       Molecular Biolgoy    Clear   \n",
       "1  2015-07-01    2015-07-31  ShenYang  Biomedical Engineering    Clear   \n",
       "2  2015-07-01    0000-00-00   BeiJing                     NaN  Pending   \n",
       "3  2015-07-01    2015-07-14  ShenYang     Project Manangement    Clear   \n",
       "4  2015-07-01    2015-08-19    Others    Computer Engineering    Clear   \n",
       "\n",
       "      type visa  waiting_days  \n",
       "0      New   H1            40  \n",
       "1  Renewal   F1            30  \n",
       "2      New   B2          1312  \n",
       "3      New   F1            13  \n",
       "4  Renewal   F1            49  "
      ]
     },
     "execution_count": 60,
     "metadata": {},
     "output_type": "execute_result"
    }
   ],
   "source": [
    "big_df.head()"
   ]
  },
  {
   "cell_type": "code",
   "execution_count": 61,
   "metadata": {
    "ExecuteTime": {
     "end_time": "2019-02-09T14:26:37.592691Z",
     "start_time": "2019-02-09T14:26:37.586012Z"
    }
   },
   "outputs": [
    {
     "data": {
      "text/plain": [
       "(27831, 8)"
      ]
     },
     "execution_count": 61,
     "metadata": {},
     "output_type": "execute_result"
    }
   ],
   "source": [
    "big_df.shape"
   ]
  },
  {
   "cell_type": "code",
   "execution_count": 5,
   "metadata": {
    "ExecuteTime": {
     "end_time": "2019-02-09T14:26:37.621360Z",
     "start_time": "2019-02-09T14:26:37.611183Z"
    }
   },
   "outputs": [
    {
     "data": {
      "text/plain": [
       "array(['Clear', 'Pending', 'Reject'], dtype=object)"
      ]
     },
     "execution_count": 5,
     "metadata": {},
     "output_type": "execute_result"
    }
   ],
   "source": [
    "big_df[\"status\"].unique()"
   ]
  },
  {
   "cell_type": "code",
   "execution_count": 6,
   "metadata": {
    "ExecuteTime": {
     "end_time": "2019-02-09T14:26:37.641838Z",
     "start_time": "2019-02-09T14:26:37.623642Z"
    }
   },
   "outputs": [],
   "source": [
    "valid_big_df = big_df.loc[(big_df[\"status\"] == \"Clear\") | (big_df[\"status\"] == \"Reject\")]"
   ]
  },
  {
   "cell_type": "code",
   "execution_count": 7,
   "metadata": {
    "ExecuteTime": {
     "end_time": "2019-02-09T14:26:37.649681Z",
     "start_time": "2019-02-09T14:26:37.644262Z"
    }
   },
   "outputs": [
    {
     "data": {
      "text/plain": [
       "(23158, 8)"
      ]
     },
     "execution_count": 7,
     "metadata": {},
     "output_type": "execute_result"
    }
   ],
   "source": [
    "valid_big_df.shape"
   ]
  },
  {
   "cell_type": "code",
   "execution_count": 8,
   "metadata": {
    "ExecuteTime": {
     "end_time": "2019-02-09T14:26:38.074387Z",
     "start_time": "2019-02-09T14:26:38.062073Z"
    }
   },
   "outputs": [
    {
     "name": "stdout",
     "output_type": "stream",
     "text": [
      "964\n",
      "-336\n"
     ]
    }
   ],
   "source": [
    "print(max(valid_big_df[\"waiting_days\"]))\n",
    "print(min(valid_big_df[\"waiting_days\"]))"
   ]
  },
  {
   "cell_type": "code",
   "execution_count": 9,
   "metadata": {
    "ExecuteTime": {
     "end_time": "2019-02-09T14:26:38.096331Z",
     "start_time": "2019-02-09T14:26:38.076821Z"
    }
   },
   "outputs": [
    {
     "data": {
      "text/html": [
       "<div>\n",
       "<style scoped>\n",
       "    .dataframe tbody tr th:only-of-type {\n",
       "        vertical-align: middle;\n",
       "    }\n",
       "\n",
       "    .dataframe tbody tr th {\n",
       "        vertical-align: top;\n",
       "    }\n",
       "\n",
       "    .dataframe thead th {\n",
       "        text-align: right;\n",
       "    }\n",
       "</style>\n",
       "<table border=\"1\" class=\"dataframe\">\n",
       "  <thead>\n",
       "    <tr style=\"text-align: right;\">\n",
       "      <th></th>\n",
       "      <th>check_date</th>\n",
       "      <th>complete_date</th>\n",
       "      <th>loc</th>\n",
       "      <th>major</th>\n",
       "      <th>status</th>\n",
       "      <th>type</th>\n",
       "      <th>visa</th>\n",
       "      <th>waiting_days</th>\n",
       "    </tr>\n",
       "  </thead>\n",
       "  <tbody>\n",
       "    <tr>\n",
       "      <th>12380</th>\n",
       "      <td>2011-05-19</td>\n",
       "      <td>2014-01-07</td>\n",
       "      <td>BeiJing</td>\n",
       "      <td>Computer Science</td>\n",
       "      <td>Clear</td>\n",
       "      <td>New</td>\n",
       "      <td>F1</td>\n",
       "      <td>964</td>\n",
       "    </tr>\n",
       "  </tbody>\n",
       "</table>\n",
       "</div>"
      ],
      "text/plain": [
       "       check_date complete_date      loc             major status type visa  \\\n",
       "12380  2011-05-19    2014-01-07  BeiJing  Computer Science  Clear  New   F1   \n",
       "\n",
       "       waiting_days  \n",
       "12380           964  "
      ]
     },
     "execution_count": 9,
     "metadata": {},
     "output_type": "execute_result"
    }
   ],
   "source": [
    "valid_big_df[valid_big_df[\"waiting_days\"] == max(valid_big_df[\"waiting_days\"])]"
   ]
  },
  {
   "cell_type": "code",
   "execution_count": 10,
   "metadata": {
    "ExecuteTime": {
     "end_time": "2019-02-09T14:26:38.128035Z",
     "start_time": "2019-02-09T14:26:38.100496Z"
    }
   },
   "outputs": [
    {
     "name": "stdout",
     "output_type": "stream",
     "text": [
      "12380    964\n",
      "5478     909\n",
      "6914     785\n",
      "26330    611\n",
      "26462    596\n",
      "2420     529\n",
      "8556     511\n",
      "15263    509\n",
      "8546     454\n",
      "1960     427\n",
      "25883    424\n",
      "27001    395\n",
      "19437    392\n",
      "23869    386\n",
      "26032    378\n",
      "8395     374\n",
      "24644    365\n",
      "23965    347\n",
      "24232    333\n",
      "18137    328\n",
      "Name: waiting_days, dtype: int64\n",
      "11455   -336\n",
      "16875   -333\n",
      "17275   -330\n",
      "27642   -324\n",
      "27640   -323\n",
      "1204    -312\n",
      "15460   -191\n",
      "19528     -7\n",
      "10958     -4\n",
      "265        0\n",
      "Name: waiting_days, dtype: int64\n"
     ]
    }
   ],
   "source": [
    "print(valid_big_df[\"waiting_days\"].nlargest(20))\n",
    "print(valid_big_df[\"waiting_days\"].nsmallest(10))"
   ]
  },
  {
   "cell_type": "code",
   "execution_count": 11,
   "metadata": {
    "ExecuteTime": {
     "end_time": "2019-02-09T14:26:38.144979Z",
     "start_time": "2019-02-09T14:26:38.130077Z"
    }
   },
   "outputs": [
    {
     "data": {
      "text/html": [
       "<div>\n",
       "<style scoped>\n",
       "    .dataframe tbody tr th:only-of-type {\n",
       "        vertical-align: middle;\n",
       "    }\n",
       "\n",
       "    .dataframe tbody tr th {\n",
       "        vertical-align: top;\n",
       "    }\n",
       "\n",
       "    .dataframe thead th {\n",
       "        text-align: right;\n",
       "    }\n",
       "</style>\n",
       "<table border=\"1\" class=\"dataframe\">\n",
       "  <thead>\n",
       "    <tr style=\"text-align: right;\">\n",
       "      <th></th>\n",
       "      <th>check_date</th>\n",
       "      <th>complete_date</th>\n",
       "      <th>loc</th>\n",
       "      <th>major</th>\n",
       "      <th>status</th>\n",
       "      <th>type</th>\n",
       "      <th>visa</th>\n",
       "      <th>waiting_days</th>\n",
       "    </tr>\n",
       "  </thead>\n",
       "  <tbody>\n",
       "    <tr>\n",
       "      <th>19437</th>\n",
       "      <td>2014-07-15</td>\n",
       "      <td>2015-08-11</td>\n",
       "      <td>ChengDu</td>\n",
       "      <td>Computational Chemistry</td>\n",
       "      <td>Clear</td>\n",
       "      <td>New</td>\n",
       "      <td>F1</td>\n",
       "      <td>392</td>\n",
       "    </tr>\n",
       "  </tbody>\n",
       "</table>\n",
       "</div>"
      ],
      "text/plain": [
       "       check_date complete_date      loc                    major status type  \\\n",
       "19437  2014-07-15    2015-08-11  ChengDu  Computational Chemistry  Clear  New   \n",
       "\n",
       "      visa  waiting_days  \n",
       "19437   F1           392  "
      ]
     },
     "execution_count": 11,
     "metadata": {},
     "output_type": "execute_result"
    }
   ],
   "source": [
    "valid_big_df[valid_big_df[\"waiting_days\"] ==392]"
   ]
  },
  {
   "cell_type": "code",
   "execution_count": 12,
   "metadata": {
    "ExecuteTime": {
     "end_time": "2019-02-09T14:26:38.169466Z",
     "start_time": "2019-02-09T14:26:38.147177Z"
    }
   },
   "outputs": [],
   "source": [
    "valid_big_df = valid_big_df.loc[valid_big_df[\"waiting_days\"] < 392]\n",
    "valid_big_df = valid_big_df.loc[valid_big_df[\"waiting_days\"]>0]"
   ]
  },
  {
   "cell_type": "code",
   "execution_count": 13,
   "metadata": {
    "ExecuteTime": {
     "end_time": "2019-02-09T14:26:38.059744Z",
     "start_time": "2019-02-09T14:26:37.651869Z"
    }
   },
   "outputs": [
    {
     "data": {
      "text/plain": [
       "<matplotlib.axes._subplots.AxesSubplot at 0x11c54eb00>"
      ]
     },
     "execution_count": 13,
     "metadata": {},
     "output_type": "execute_result"
    },
    {
     "data": {
      "image/png": "[encoded data removed]",
      "text/plain": [
       "<Figure size 432x288 with 1 Axes>"
      ]
     },
     "metadata": {
      "needs_background": "light"
     },
     "output_type": "display_data"
    }
   ],
   "source": [
    "valid_big_df[\"waiting_days\"].hist(bins=50,alpha=0.6,color='orange')"
   ]
  },
  {
   "cell_type": "code",
   "execution_count": 14,
   "metadata": {
    "ExecuteTime": {
     "end_time": "2019-02-09T14:26:38.181738Z",
     "start_time": "2019-02-09T14:26:38.172928Z"
    }
   },
   "outputs": [
    {
     "data": {
      "text/plain": [
       "(23101, 8)"
      ]
     },
     "execution_count": 14,
     "metadata": {},
     "output_type": "execute_result"
    }
   ],
   "source": [
    "valid_big_df.shape"
   ]
  },
  {
   "cell_type": "code",
   "execution_count": 15,
   "metadata": {
    "ExecuteTime": {
     "end_time": "2019-02-09T14:26:38.958027Z",
     "start_time": "2019-02-09T14:26:38.184971Z"
    }
   },
   "outputs": [
    {
     "data": {
      "text/plain": [
       "<matplotlib.axes._subplots.AxesSubplot at 0x11b87cc88>"
      ]
     },
     "execution_count": 15,
     "metadata": {},
     "output_type": "execute_result"
    },
    {
     "data": {
      "image/png": "[encoded data removed]",
      "text/plain": [
       "<Figure size 432x288 with 1 Axes>"
      ]
     },
     "metadata": {
      "needs_background": "light"
     },
     "output_type": "display_data"
    }
   ],
   "source": [
    "valid_big_df[\"waiting_days\"].hist(bins=300,alpha=0.8,color='blue')"
   ]
  },
  {
   "cell_type": "code",
   "execution_count": 16,
   "metadata": {
    "ExecuteTime": {
     "end_time": "2019-02-09T14:26:39.915579Z",
     "start_time": "2019-02-09T14:26:38.970183Z"
    }
   },
   "outputs": [],
   "source": [
    "valid_big_df[\"check_date\"] = pd.to_datetime(valid_big_df[\"check_date\"])\n",
    "valid_big_df[\"complete_date\"] = pd.to_datetime(valid_big_df[\"complete_date\"])"
   ]
  },
  {
   "cell_type": "code",
   "execution_count": 17,
   "metadata": {
    "ExecuteTime": {
     "end_time": "2019-02-09T14:26:40.293209Z",
     "start_time": "2019-02-09T14:26:39.918358Z"
    }
   },
   "outputs": [],
   "source": [
    "valid_big_df[\"check_year\"] = valid_big_df[\"check_date\"].apply(lambda x: x.year)\n",
    "valid_big_df[\"check_month\"] = valid_big_df[\"check_date\"].apply(lambda x: x.month)\n",
    "\n",
    "valid_big_df = valid_big_df[~valid_big_df[\"check_year\"].isin(['2008','2019'])]\n",
    "valid_big_df = valid_big_df[valid_big_df[\"type\"] != \"\"]\n",
    "\n",
    "valid_big_df = valid_big_df[valid_big_df[\"loc\"] != \"\"]\n",
    "\n",
    "valid_big_df.dropna(subset=['major'],inplace = True)\n",
    "\n",
    "valid_big_df[\"major\"] = valid_big_df[\"major\"].apply(lambda x: x.lower())\n",
    "valid_big_df[\"major\"] = valid_big_df[\"major\"].apply(lambda x: x.strip())"
   ]
  },
  {
   "cell_type": "code",
   "execution_count": 18,
   "metadata": {
    "ExecuteTime": {
     "end_time": "2019-02-09T14:26:40.302565Z",
     "start_time": "2019-02-09T14:26:40.295187Z"
    }
   },
   "outputs": [
    {
     "data": {
      "text/plain": [
       "2431"
      ]
     },
     "execution_count": 18,
     "metadata": {},
     "output_type": "execute_result"
    }
   ],
   "source": [
    "unique_majors = list(valid_big_df['major'].unique())\n",
    "len(unique_majors)"
   ]
  },
  {
   "cell_type": "code",
   "execution_count": 19,
   "metadata": {
    "ExecuteTime": {
     "end_time": "2019-02-09T14:26:40.308385Z",
     "start_time": "2019-02-09T14:26:40.304231Z"
    }
   },
   "outputs": [
    {
     "data": {
      "text/plain": [
       "'electrical engineering'"
      ]
     },
     "execution_count": 19,
     "metadata": {},
     "output_type": "execute_result"
    }
   ],
   "source": [
    "'electrical engineering'"
   ]
  },
  {
   "cell_type": "code",
   "execution_count": 20,
   "metadata": {
    "ExecuteTime": {
     "end_time": "2019-02-09T14:26:40.322952Z",
     "start_time": "2019-02-09T14:26:40.310753Z"
    },
    "scrolled": true
   },
   "outputs": [
    {
     "data": {
      "text/plain": [
       "[('ee', 2650),\n",
       " ('cs', 2596),\n",
       " ('chemistry', 1116),\n",
       " ('computer science', 964),\n",
       " ('physics', 784),\n",
       " ('me', 676),\n",
       " ('biology', 642),\n",
       " ('ece', 559),\n",
       " ('mechanical engineering', 544),\n",
       " ('chemical engineering', 534),\n",
       " ('mse', 263),\n",
       " ('biochemistry', 245),\n",
       " ('biomedical engineering', 223),\n",
       " ('electrical engineering', 221),\n",
       " ('materials science', 185),\n",
       " ('bioinformatics', 164),\n",
       " ('computer engineering', 162),\n",
       " ('bme', 133),\n",
       " ('medicine', 125),\n",
       " ('statistics', 114),\n",
       " ('biostatistics', 110),\n",
       " ('material science', 104),\n",
       " ('neuroscience', 103),\n",
       " ('pharmacology', 102),\n",
       " ('microbiology', 96),\n",
       " ('chem', 95),\n",
       " ('ce', 85),\n",
       " ('civil engineering', 84),\n",
       " ('materials science and eng', 82),\n",
       " ('optics', 80),\n",
       " ('bio', 78),\n",
       " ('materials', 78),\n",
       " ('bioengineering', 74),\n",
       " ('immunology', 73),\n",
       " ('aerospace engineering', 71),\n",
       " ('biomedical sciences', 69),\n",
       " ('genetics', 66),\n",
       " ('industrial engineering', 64),\n",
       " ('biomedical', 62),\n",
       " ('environmental engineering', 61),\n",
       " ('math', 61),\n",
       " ('microelectronics', 60),\n",
       " ('automation', 57),\n",
       " ('molecular biology', 57),\n",
       " ('accounting', 57),\n",
       " ('biomedical science', 56),\n",
       " ('nuclear engineering', 55),\n",
       " ('biophysics', 54),\n",
       " ('materials engineering', 52),\n",
       " ('cell biology', 52),\n",
       " ('mathematics', 51),\n",
       " ('engineering', 51),\n",
       " ('mba', 50),\n",
       " ('biochem', 50),\n",
       " ('software engineering', 49),\n",
       " ('information security', 46),\n",
       " ('gis', 46),\n",
       " ('cheme', 44),\n",
       " ('biotechnology', 44),\n",
       " ('finance', 43),\n",
       " ('polymer', 42),\n",
       " ('information science', 42),\n",
       " ('optical engineering', 40),\n",
       " ('epidemiology', 40),\n",
       " ('pharmacy', 40),\n",
       " ('biomedicine', 39),\n",
       " ('geophysics', 38),\n",
       " ('applied math', 38),\n",
       " ('petroleum engineering', 38),\n",
       " ('che', 38),\n",
       " ('business', 36),\n",
       " ('robotics', 36),\n",
       " ('geography', 36),\n",
       " ('computer', 36),\n",
       " ('food science', 35),\n",
       " ('eecs', 35),\n",
       " ('material', 35),\n",
       " ('medicinal chemistry', 34),\n",
       " ('biochemistry and molecula', 34),\n",
       " ('pharmaceutical science', 33),\n",
       " ('mechanical', 33),\n",
       " ('aerospace', 32),\n",
       " ('computational biology', 31),\n",
       " ('mechanics', 30),\n",
       " ('pharmaceutical sciences', 30),\n",
       " ('environmental science', 29),\n",
       " ('electrical and computer e', 28),\n",
       " ('pharmaceutics', 27),\n",
       " ('organic chemistry', 27),\n",
       " ('applied physics', 26),\n",
       " ('telecommunication', 26),\n",
       " ('communication engineering', 26),\n",
       " ('ie', 26),\n",
       " ('analytical chemistry', 25),\n",
       " ('law', 25),\n",
       " ('architecture', 24),\n",
       " ('polymer science', 24),\n",
       " ('material engineering', 24),\n",
       " ('communication', 24),\n",
       " ('geology', 23)]"
      ]
     },
     "execution_count": 20,
     "metadata": {},
     "output_type": "execute_result"
    }
   ],
   "source": [
    "Counter(valid_big_df['major']).most_common(100)"
   ]
  },
  {
   "cell_type": "code",
   "execution_count": 21,
   "metadata": {
    "ExecuteTime": {
     "end_time": "2019-02-09T14:26:40.416693Z",
     "start_time": "2019-02-09T14:26:40.324606Z"
    }
   },
   "outputs": [],
   "source": [
    "d = {'ee': 'electrical engineering', \n",
    "     'cs': 'computer science', \n",
    "     'me': 'mechanical engineering', \n",
    "     'mse': 'materials science', \n",
    "     'bme': 'biomedical engineering',\n",
    "     'material science': 'materials science',\n",
    "     'chem':'chemical engineering',\n",
    "     'ce':'computer engineering',\n",
    "     'materials science and eng':'materials science',\n",
    "     'bio':'biology',\n",
    "     'materials':'materials science',\n",
    "     'biomedical':'biomedical engineering',\n",
    "     'biomedical science':\"biology\",\n",
    "     'materials engineering':'materials science',\n",
    "     'math':'mathematics',\n",
    "     'biochem':'biochemistry',\n",
    "     'gis':'geo information system',\n",
    "     'cheme':'chemical engineering',\n",
    "     'biotechnology':'biology',\n",
    "     'optical engineering':'optics',\n",
    "     'applied math':'mathematics',\n",
    "     'applied mathematics':'mathematics',\n",
    "     'ece':'electrical engineering',\n",
    "     'che':'chemical engineering',\n",
    "     'eecs':'computer science',\n",
    "     'material':'materials science',\n",
    "     'pharmaceutical science':'pharmaceutical sciences',\n",
    "     'mechanical':'mechanical engineering',\n",
    "     'electrical and computer e':'electrical engineering',\n",
    "     'aerospace':'aerospace engineering',\n",
    "     'pharmaceutics':'pharmaceutical sciences',\n",
    "     'ie':'industrial engineering',\n",
    "     'polymer science':'polymer',\n",
    "     'material engineering':'material sciences',\n",
    "     'material science and engi':'material sciences',\n",
    "     'ae':'aerospace engineering',\n",
    "     'mis':'information science'\n",
    "    }\n",
    "\n",
    "valid_big_df[\"major\"] = valid_big_df[\"major\"].replace(d)"
   ]
  },
  {
   "cell_type": "code",
   "execution_count": 22,
   "metadata": {
    "ExecuteTime": {
     "end_time": "2019-02-09T14:26:40.431191Z",
     "start_time": "2019-02-09T14:26:40.418428Z"
    }
   },
   "outputs": [],
   "source": [
    "major_majors = [m for m, c in Counter(valid_big_df['major']).most_common(100) if c >= 20]\n",
    "valid_big_df = valid_big_df.loc[valid_big_df[\"major\"].isin(major_majors)]\n",
    "most_majors = major_majors[:20]"
   ]
  },
  {
   "cell_type": "code",
   "execution_count": 23,
   "metadata": {
    "ExecuteTime": {
     "end_time": "2019-02-09T14:26:40.440181Z",
     "start_time": "2019-02-09T14:26:40.433169Z"
    }
   },
   "outputs": [
    {
     "data": {
      "text/plain": [
       "81"
      ]
     },
     "execution_count": 23,
     "metadata": {},
     "output_type": "execute_result"
    }
   ],
   "source": [
    "len(valid_big_df['major'].unique())"
   ]
  },
  {
   "cell_type": "code",
   "execution_count": 24,
   "metadata": {
    "ExecuteTime": {
     "end_time": "2019-02-09T14:27:03.792667Z",
     "start_time": "2019-02-09T14:27:03.596055Z"
    }
   },
   "outputs": [],
   "source": [
    "valid_big_df[\"visa_type\"] = valid_big_df[\"visa\"] + \"_\" + valid_big_df[\"type\"]"
   ]
  },
  {
   "cell_type": "code",
   "execution_count": 25,
   "metadata": {
    "ExecuteTime": {
     "end_time": "2019-02-09T14:27:04.411623Z",
     "start_time": "2019-02-09T14:27:04.398681Z"
    }
   },
   "outputs": [
    {
     "data": {
      "text/html": [
       "<div>\n",
       "<style scoped>\n",
       "    .dataframe tbody tr th:only-of-type {\n",
       "        vertical-align: middle;\n",
       "    }\n",
       "\n",
       "    .dataframe tbody tr th {\n",
       "        vertical-align: top;\n",
       "    }\n",
       "\n",
       "    .dataframe thead th {\n",
       "        text-align: right;\n",
       "    }\n",
       "</style>\n",
       "<table border=\"1\" class=\"dataframe\">\n",
       "  <thead>\n",
       "    <tr style=\"text-align: right;\">\n",
       "      <th></th>\n",
       "      <th>check_date</th>\n",
       "      <th>complete_date</th>\n",
       "      <th>loc</th>\n",
       "      <th>major</th>\n",
       "      <th>status</th>\n",
       "      <th>type</th>\n",
       "      <th>visa</th>\n",
       "      <th>waiting_days</th>\n",
       "      <th>check_year</th>\n",
       "      <th>check_month</th>\n",
       "      <th>visa_type</th>\n",
       "    </tr>\n",
       "  </thead>\n",
       "  <tbody>\n",
       "    <tr>\n",
       "      <th>1</th>\n",
       "      <td>2015-07-01</td>\n",
       "      <td>2015-07-31</td>\n",
       "      <td>ShenYang</td>\n",
       "      <td>biomedical engineering</td>\n",
       "      <td>Clear</td>\n",
       "      <td>Renewal</td>\n",
       "      <td>F1</td>\n",
       "      <td>30</td>\n",
       "      <td>2015</td>\n",
       "      <td>7</td>\n",
       "      <td>F1_Renewal</td>\n",
       "    </tr>\n",
       "    <tr>\n",
       "      <th>4</th>\n",
       "      <td>2015-07-01</td>\n",
       "      <td>2015-08-19</td>\n",
       "      <td>Others</td>\n",
       "      <td>computer engineering</td>\n",
       "      <td>Clear</td>\n",
       "      <td>Renewal</td>\n",
       "      <td>F1</td>\n",
       "      <td>49</td>\n",
       "      <td>2015</td>\n",
       "      <td>7</td>\n",
       "      <td>F1_Renewal</td>\n",
       "    </tr>\n",
       "    <tr>\n",
       "      <th>5</th>\n",
       "      <td>2015-07-01</td>\n",
       "      <td>2015-08-05</td>\n",
       "      <td>ShenYang</td>\n",
       "      <td>materials science</td>\n",
       "      <td>Clear</td>\n",
       "      <td>New</td>\n",
       "      <td>F1</td>\n",
       "      <td>35</td>\n",
       "      <td>2015</td>\n",
       "      <td>7</td>\n",
       "      <td>F1_New</td>\n",
       "    </tr>\n",
       "    <tr>\n",
       "      <th>9</th>\n",
       "      <td>2015-07-01</td>\n",
       "      <td>2015-08-06</td>\n",
       "      <td>BeiJing</td>\n",
       "      <td>electrical engineering</td>\n",
       "      <td>Clear</td>\n",
       "      <td>Renewal</td>\n",
       "      <td>F1</td>\n",
       "      <td>36</td>\n",
       "      <td>2015</td>\n",
       "      <td>7</td>\n",
       "      <td>F1_Renewal</td>\n",
       "    </tr>\n",
       "    <tr>\n",
       "      <th>11</th>\n",
       "      <td>2015-07-01</td>\n",
       "      <td>2015-07-31</td>\n",
       "      <td>BeiJing</td>\n",
       "      <td>computer science</td>\n",
       "      <td>Clear</td>\n",
       "      <td>New</td>\n",
       "      <td>H1</td>\n",
       "      <td>30</td>\n",
       "      <td>2015</td>\n",
       "      <td>7</td>\n",
       "      <td>H1_New</td>\n",
       "    </tr>\n",
       "  </tbody>\n",
       "</table>\n",
       "</div>"
      ],
      "text/plain": [
       "   check_date complete_date       loc                   major status     type  \\\n",
       "1  2015-07-01    2015-07-31  ShenYang  biomedical engineering  Clear  Renewal   \n",
       "4  2015-07-01    2015-08-19    Others    computer engineering  Clear  Renewal   \n",
       "5  2015-07-01    2015-08-05  ShenYang       materials science  Clear      New   \n",
       "9  2015-07-01    2015-08-06   BeiJing  electrical engineering  Clear  Renewal   \n",
       "11 2015-07-01    2015-07-31   BeiJing        computer science  Clear      New   \n",
       "\n",
       "   visa  waiting_days  check_year  check_month   visa_type  \n",
       "1    F1            30        2015            7  F1_Renewal  \n",
       "4    F1            49        2015            7  F1_Renewal  \n",
       "5    F1            35        2015            7      F1_New  \n",
       "9    F1            36        2015            7  F1_Renewal  \n",
       "11   H1            30        2015            7      H1_New  "
      ]
     },
     "execution_count": 25,
     "metadata": {},
     "output_type": "execute_result"
    }
   ],
   "source": [
    "valid_big_df.head()"
   ]
  },
  {
   "cell_type": "code",
   "execution_count": 26,
   "metadata": {
    "ExecuteTime": {
     "end_time": "2019-02-12T05:04:48.164687Z",
     "start_time": "2019-02-12T05:04:48.114410Z"
    }
   },
   "outputs": [
    {
     "data": {
      "text/plain": [
       "array(['F1', 'H1', 'B1', 'J1', 'L1', 'H4', 'J2', 'B2', 'F2', 'L2', 'O1'],\n",
       "      dtype=object)"
      ]
     },
     "execution_count": 26,
     "metadata": {},
     "output_type": "execute_result"
    }
   ],
   "source": [
    "valid_big_df[\"visa\"].unique()"
   ]
  },
  {
   "cell_type": "code",
   "execution_count": 27,
   "metadata": {
    "ExecuteTime": {
     "end_time": "2019-02-09T14:26:40.466890Z",
     "start_time": "2019-02-09T14:26:40.463383Z"
    }
   },
   "outputs": [],
   "source": [
    "# Ideas:\n",
    "# major counts vs time, 看出来哪些专业是一直审查严格，哪些专业是最近才审查严格"
   ]
  },
  {
   "cell_type": "markdown",
   "metadata": {
    "ExecuteTime": {
     "end_time": "2019-02-09T12:48:14.048647Z",
     "start_time": "2019-02-09T12:48:14.035447Z"
    }
   },
   "source": [
    "# In general"
   ]
  },
  {
   "cell_type": "markdown",
   "metadata": {},
   "source": [
    "## Waiting time vs check year"
   ]
  },
  {
   "cell_type": "code",
   "execution_count": 28,
   "metadata": {
    "ExecuteTime": {
     "end_time": "2019-02-02T09:22:33.050531Z",
     "start_time": "2019-02-02T09:22:32.830900Z"
    }
   },
   "outputs": [
    {
     "data": {
      "image/png": "[encoded data removed]",
      "text/plain": [
       "<Figure size 720x576 with 1 Axes>"
      ]
     },
     "metadata": {
      "needs_background": "light"
     },
     "output_type": "display_data"
    }
   ],
   "source": [
    "ax = valid_big_df.groupby(\"check_year\")[\"waiting_days\"].mean().plot(\n",
    "    kind='bar',title=\"Average waiting days vs check year\", figsize=(10,8), rot=0,\n",
    "    alpha = 0.6, color = 'green')\n",
    "for p in ax.patches: ax.annotate(np.round(p.get_height(),decimals=2), \n",
    "                                 (p.get_x()+p.get_width()/2., p.get_height()), \n",
    "                                 ha='center', va='center', xytext=(0, 10), textcoords='offset points')"
   ]
  },
  {
   "cell_type": "markdown",
   "metadata": {},
   "source": [
    "## Waiting time vs check year"
   ]
  },
  {
   "cell_type": "code",
   "execution_count": 29,
   "metadata": {
    "ExecuteTime": {
     "end_time": "2019-02-02T09:22:33.274326Z",
     "start_time": "2019-02-02T09:22:33.052677Z"
    }
   },
   "outputs": [
    {
     "data": {
      "image/png": "[encoded data removed]",
      "text/plain": [
       "<Figure size 720x576 with 1 Axes>"
      ]
     },
     "metadata": {
      "needs_background": "light"
     },
     "output_type": "display_data"
    }
   ],
   "source": [
    "ax = valid_big_df.groupby(\"check_month\")[\"waiting_days\"].mean().plot(\n",
    "    kind='bar',title=\"Average waiting days per month\", figsize=(10,8), rot=0,\n",
    "    alpha = 0.7, color = 'pink')\n",
    "for p in ax.patches: ax.annotate(np.round(p.get_height(),decimals=2), \n",
    "                                 (p.get_x()+p.get_width()/2., p.get_height()), \n",
    "                                 ha='center', va='center', xytext=(0, 10), textcoords='offset points')"
   ]
  },
  {
   "cell_type": "markdown",
   "metadata": {},
   "source": [
    "## Rej vs visa type"
   ]
  },
  {
   "cell_type": "code",
   "execution_count": 30,
   "metadata": {
    "ExecuteTime": {
     "end_time": "2019-02-09T14:27:51.507898Z",
     "start_time": "2019-02-09T14:27:51.276549Z"
    }
   },
   "outputs": [
    {
     "data": {
      "image/png": "[encoded data removed]",
      "text/plain": [
       "<Figure size 720x576 with 1 Axes>"
      ]
     },
     "metadata": {
      "needs_background": "light"
     },
     "output_type": "display_data"
    }
   ],
   "source": [
    "deny_counts_by_visa_type = valid_big_df[valid_big_df[\"status\"] == \"Reject\"].groupby(['visa_type'])[\"check_date\"].count()\n",
    "deny_ratio_by_visa_type = 100*deny_counts_by_visa_type / valid_big_df.groupby(['visa_type'])[\"check_date\"].count()\n",
    "deny_ratio_by_visa_type = pd.DataFrame(deny_ratio_by_visa_type[deny_ratio_by_visa_type.notnull()])\n",
    "deny_ratio_by_visa_type = deny_ratio_by_visa_type.reset_index()\n",
    "deny_ratio_by_visa_type.sort_values('check_date', inplace=True, ascending=True)\n",
    "ax = deny_ratio_by_visa_type.plot(kind='bar', y=\"check_date\",x=\"visa_type\",title=\"Percentage of being rejected after check vs visa type\",figsize=(10,8), rot=70, legend=False, alpha = 0.6, color = 'orange')\n",
    "for p in ax.patches: ax.annotate(np.round(p.get_height(),decimals=2), \n",
    "                                 (p.get_x()+p.get_width()/2., p.get_height()), \n",
    "                                 ha='center', va='center', xytext=(0, 10), textcoords='offset points')"
   ]
  },
  {
   "cell_type": "markdown",
   "metadata": {},
   "source": [
    "## Rej vs check year"
   ]
  },
  {
   "cell_type": "code",
   "execution_count": 31,
   "metadata": {
    "ExecuteTime": {
     "end_time": "2019-02-09T14:27:43.625191Z",
     "start_time": "2019-02-09T14:27:43.380787Z"
    }
   },
   "outputs": [
    {
     "data": {
      "image/png": "[encoded data removed]",
      "text/plain": [
       "<Figure size 720x576 with 1 Axes>"
      ]
     },
     "metadata": {
      "needs_background": "light"
     },
     "output_type": "display_data"
    }
   ],
   "source": [
    "deny_counts_by_year = valid_big_df[valid_big_df[\"status\"] == \"Reject\"].groupby(['check_year'])[\"check_date\"].count()\n",
    "deny_ratio_by_year = 100*deny_counts_by_year / valid_big_df.groupby(['check_year'])[\"check_date\"].count()\n",
    "deny_ratio_by_year = pd.DataFrame(deny_ratio_by_year[deny_ratio_by_year.notnull()])\n",
    "deny_ratio_by_year = deny_ratio_by_year.reset_index()\n",
    "ax = deny_ratio_by_year.plot(kind='bar', y=\"check_date\",x=\"check_year\",title=\"Percentage of being rejected after check vs check year\",figsize=(10,8), rot=70, legend=False, alpha = 0.6, color = 'blue')\n",
    "for p in ax.patches: ax.annotate(np.round(p.get_height(),decimals=2), \n",
    "                                 (p.get_x()+p.get_width()/2., p.get_height()), \n",
    "                                 ha='center', va='center', xytext=(0, 10), textcoords='offset points')"
   ]
  },
  {
   "cell_type": "markdown",
   "metadata": {},
   "source": [
    "## Waiting days vs Visa type"
   ]
  },
  {
   "cell_type": "code",
   "execution_count": 32,
   "metadata": {
    "ExecuteTime": {
     "end_time": "2019-02-09T14:27:28.804264Z",
     "start_time": "2019-02-09T14:27:28.296059Z"
    }
   },
   "outputs": [
    {
     "data": {
      "image/png": "[encoded data removed]",
      "text/plain": [
       "<Figure size 1440x576 with 1 Axes>"
      ]
     },
     "metadata": {
      "needs_background": "light"
     },
     "output_type": "display_data"
    }
   ],
   "source": [
    "wd_visa = pd.DataFrame(valid_big_df.groupby(\"visa_type\")[\"waiting_days\"].mean())\n",
    "wd_visa = wd_visa.reset_index()\n",
    "wd_visa.sort_values('waiting_days', inplace=True, ascending=True)\n",
    "ax = wd_visa.plot(kind='bar', x='visa_type',y='waiting_days',title=\"Average waiting days vs visa_type\", figsize=(20,8), rot=70, legend=False, alpha = 0.6)\n",
    "for p in ax.patches: ax.annotate(np.round(p.get_height(),decimals=2), \n",
    "                                 (p.get_x()+p.get_width()/2., p.get_height()), \n",
    "                                 ha='center', va='center', xytext=(0, 10), textcoords='offset points')"
   ]
  },
  {
   "cell_type": "markdown",
   "metadata": {},
   "source": [
    "## Waiting days vs consulate"
   ]
  },
  {
   "cell_type": "code",
   "execution_count": 33,
   "metadata": {
    "ExecuteTime": {
     "end_time": "2019-02-02T09:22:34.702928Z",
     "start_time": "2019-02-02T09:22:34.257836Z"
    }
   },
   "outputs": [
    {
     "data": {
      "image/png": "[encoded data removed]",
      "text/plain": [
       "<Figure size 1440x576 with 1 Axes>"
      ]
     },
     "metadata": {
      "needs_background": "light"
     },
     "output_type": "display_data"
    }
   ],
   "source": [
    "wd_consulate = pd.DataFrame(valid_big_df.groupby(\"loc\")[\"waiting_days\"].mean()).reset_index()\n",
    "wd_consulate.sort_values('waiting_days', inplace=True, ascending=True)\n",
    "ax = wd_consulate.plot(kind='bar', x='loc',y='waiting_days',title=\"Average waiting days vs consulate\", figsize=(20,8), rot=70, legend=False, alpha = 0.6, color = 'yellow')\n",
    "for p in ax.patches: ax.annotate(np.round(p.get_height(),decimals=2), \n",
    "                                 (p.get_x()+p.get_width()/2., p.get_height()), \n",
    "                                 ha='center', va='center', xytext=(0, 10), textcoords='offset points')"
   ]
  },
  {
   "cell_type": "markdown",
   "metadata": {},
   "source": [
    "## Top check majors | dangerous majors"
   ]
  },
  {
   "cell_type": "code",
   "execution_count": 34,
   "metadata": {
    "ExecuteTime": {
     "end_time": "2019-02-02T11:24:21.996204Z",
     "start_time": "2019-02-02T11:24:21.985525Z"
    }
   },
   "outputs": [],
   "source": [
    "counts_majors = pd.DataFrame(valid_big_df.groupby(\"major\")['check_date'].count())\n",
    "counts_majors = counts_majors.reset_index()\n",
    "counts_majors.sort_values('check_date', inplace=True, ascending=False)\n",
    "counts_majors = counts_majors.set_index(\"major\")"
   ]
  },
  {
   "cell_type": "code",
   "execution_count": 35,
   "metadata": {
    "ExecuteTime": {
     "end_time": "2019-02-09T15:13:56.754385Z",
     "start_time": "2019-02-09T15:13:56.728896Z"
    }
   },
   "outputs": [],
   "source": [
    "counts_majors = pd.DataFrame(valid_big_df.groupby(\"major\")['check_date'].count())\n",
    "counts_majors = counts_majors.reset_index()\n",
    "counts_majors.sort_values('check_date', inplace=True, ascending=False)\n",
    "counts_majors = counts_majors.set_index(\"major\")\n",
    "#the top\n",
    "counts_majors_top = counts_majors[:8].copy()\n",
    "\n",
    "#others\n",
    "counts_majors_other = pd.DataFrame(data = {\n",
    "    'major' : ['others'],\n",
    "    'check_date' : [counts_majors['check_date'][8:].sum()]\n",
    "})\n",
    "counts_majors_other = counts_majors_other.set_index(\"major\")\n",
    "#combining top  with others\n",
    "counts_majors_all = pd.concat([counts_majors_top, counts_majors_other])"
   ]
  },
  {
   "cell_type": "code",
   "execution_count": 36,
   "metadata": {
    "ExecuteTime": {
     "end_time": "2019-02-09T15:13:58.951885Z",
     "start_time": "2019-02-09T15:13:58.944414Z"
    }
   },
   "outputs": [
    {
     "data": {
      "text/html": [
       "<div>\n",
       "<style scoped>\n",
       "    .dataframe tbody tr th:only-of-type {\n",
       "        vertical-align: middle;\n",
       "    }\n",
       "\n",
       "    .dataframe tbody tr th {\n",
       "        vertical-align: top;\n",
       "    }\n",
       "\n",
       "    .dataframe thead th {\n",
       "        text-align: right;\n",
       "    }\n",
       "</style>\n",
       "<table border=\"1\" class=\"dataframe\">\n",
       "  <thead>\n",
       "    <tr style=\"text-align: right;\">\n",
       "      <th></th>\n",
       "      <th>major</th>\n",
       "      <th>check_date</th>\n",
       "    </tr>\n",
       "  </thead>\n",
       "  <tbody>\n",
       "    <tr>\n",
       "      <th>0</th>\n",
       "      <td>computer science</td>\n",
       "      <td>3595</td>\n",
       "    </tr>\n",
       "    <tr>\n",
       "      <th>1</th>\n",
       "      <td>electrical engineering</td>\n",
       "      <td>3458</td>\n",
       "    </tr>\n",
       "    <tr>\n",
       "      <th>2</th>\n",
       "      <td>mechanical engineering</td>\n",
       "      <td>1253</td>\n",
       "    </tr>\n",
       "    <tr>\n",
       "      <th>3</th>\n",
       "      <td>chemistry</td>\n",
       "      <td>1116</td>\n",
       "    </tr>\n",
       "    <tr>\n",
       "      <th>4</th>\n",
       "      <td>biology</td>\n",
       "      <td>820</td>\n",
       "    </tr>\n",
       "    <tr>\n",
       "      <th>5</th>\n",
       "      <td>materials science</td>\n",
       "      <td>799</td>\n",
       "    </tr>\n",
       "    <tr>\n",
       "      <th>6</th>\n",
       "      <td>physics</td>\n",
       "      <td>784</td>\n",
       "    </tr>\n",
       "    <tr>\n",
       "      <th>7</th>\n",
       "      <td>chemical engineering</td>\n",
       "      <td>711</td>\n",
       "    </tr>\n",
       "    <tr>\n",
       "      <th>8</th>\n",
       "      <td>others</td>\n",
       "      <td>4666</td>\n",
       "    </tr>\n",
       "  </tbody>\n",
       "</table>\n",
       "</div>"
      ],
      "text/plain": [
       "                    major  check_date\n",
       "0        computer science        3595\n",
       "1  electrical engineering        3458\n",
       "2  mechanical engineering        1253\n",
       "3               chemistry        1116\n",
       "4                 biology         820\n",
       "5       materials science         799\n",
       "6                 physics         784\n",
       "7    chemical engineering         711\n",
       "8                  others        4666"
      ]
     },
     "execution_count": 36,
     "metadata": {},
     "output_type": "execute_result"
    }
   ],
   "source": [
    "counts_majors_all = counts_majors_all.reset_index()\n",
    "counts_majors_all"
   ]
  },
  {
   "cell_type": "code",
   "execution_count": 37,
   "metadata": {
    "ExecuteTime": {
     "end_time": "2019-02-09T15:14:23.414092Z",
     "start_time": "2019-02-09T15:14:23.406494Z"
    }
   },
   "outputs": [],
   "source": [
    "counts_majors_all.to_csv(\"num_major.csv\", index=False)"
   ]
  },
  {
   "cell_type": "code",
   "execution_count": 38,
   "metadata": {
    "ExecuteTime": {
     "end_time": "2019-02-09T15:12:22.767902Z",
     "start_time": "2019-02-09T15:12:22.760207Z"
    }
   },
   "outputs": [],
   "source": [
    "counts_majors_all.to_csv(\"num_major.csv\", index=False)"
   ]
  },
  {
   "cell_type": "code",
   "execution_count": 39,
   "metadata": {
    "ExecuteTime": {
     "end_time": "2019-02-02T11:24:22.655966Z",
     "start_time": "2019-02-02T11:24:22.492048Z"
    }
   },
   "outputs": [
    {
     "data": {
      "image/png": "[encoded data removed]",
      "text/plain": [
       "<Figure size 720x720 with 1 Axes>"
      ]
     },
     "metadata": {},
     "output_type": "display_data"
    }
   ],
   "source": [
    "explode = (0.01, 0.02, 0.05, 0.1, 0.1, 0.2, 0.3, 0.4, 0.1)\n",
    "colors = ['#191970', '#001CF0', '#0038E2', '#0055D4', '#0071C6', '#008DB8', '#00AAAA',\n",
    "          '#00C69C', '#00E28E']\n",
    "#'#00FF80', \n",
    "#counts.plot(kind='pie', )\n",
    "ax = counts_majors_all.plot.pie(y='check_date',figsize=(10, 10),fontsize=14, colors=colors, \n",
    "                           explode=explode,title='Check percetage vs majors',\n",
    "                           labels=counts_majors_all.index, autopct='%1.0f%%', pctdistance=1.1, labeldistance=1.2,\n",
    "                           legend=False)\n",
    "plt.ylabel('')\n",
    "ax.title.set_size(20)\n",
    "#plt.legend(labels=counts_majors_all.index, loc=\"best\")"
   ]
  },
  {
   "cell_type": "markdown",
   "metadata": {},
   "source": [
    "## Waiting days vs majors"
   ]
  },
  {
   "cell_type": "code",
   "execution_count": 40,
   "metadata": {
    "ExecuteTime": {
     "end_time": "2019-02-02T10:46:13.266583Z",
     "start_time": "2019-02-02T10:46:13.256588Z"
    },
    "scrolled": true
   },
   "outputs": [
    {
     "data": {
      "text/html": [
       "<div>\n",
       "<style scoped>\n",
       "    .dataframe tbody tr th:only-of-type {\n",
       "        vertical-align: middle;\n",
       "    }\n",
       "\n",
       "    .dataframe tbody tr th {\n",
       "        vertical-align: top;\n",
       "    }\n",
       "\n",
       "    .dataframe thead th {\n",
       "        text-align: right;\n",
       "    }\n",
       "</style>\n",
       "<table border=\"1\" class=\"dataframe\">\n",
       "  <thead>\n",
       "    <tr style=\"text-align: right;\">\n",
       "      <th></th>\n",
       "      <th>waiting_days</th>\n",
       "    </tr>\n",
       "    <tr>\n",
       "      <th>major</th>\n",
       "      <th></th>\n",
       "    </tr>\n",
       "  </thead>\n",
       "  <tbody>\n",
       "    <tr>\n",
       "      <th>aerospace engineering</th>\n",
       "      <td>54.096774</td>\n",
       "    </tr>\n",
       "    <tr>\n",
       "      <th>biochemistry</th>\n",
       "      <td>34.603390</td>\n",
       "    </tr>\n",
       "    <tr>\n",
       "      <th>bioinformatics</th>\n",
       "      <td>33.280488</td>\n",
       "    </tr>\n",
       "    <tr>\n",
       "      <th>biology</th>\n",
       "      <td>32.923171</td>\n",
       "    </tr>\n",
       "    <tr>\n",
       "      <th>biomedical engineering</th>\n",
       "      <td>31.734450</td>\n",
       "    </tr>\n",
       "    <tr>\n",
       "      <th>biostatistics</th>\n",
       "      <td>30.781818</td>\n",
       "    </tr>\n",
       "    <tr>\n",
       "      <th>chemical engineering</th>\n",
       "      <td>33.270042</td>\n",
       "    </tr>\n",
       "    <tr>\n",
       "      <th>chemistry</th>\n",
       "      <td>33.535842</td>\n",
       "    </tr>\n",
       "    <tr>\n",
       "      <th>computer engineering</th>\n",
       "      <td>32.076923</td>\n",
       "    </tr>\n",
       "    <tr>\n",
       "      <th>computer science</th>\n",
       "      <td>32.219471</td>\n",
       "    </tr>\n",
       "    <tr>\n",
       "      <th>electrical engineering</th>\n",
       "      <td>33.015905</td>\n",
       "    </tr>\n",
       "    <tr>\n",
       "      <th>materials science</th>\n",
       "      <td>36.027534</td>\n",
       "    </tr>\n",
       "    <tr>\n",
       "      <th>mathematics</th>\n",
       "      <td>31.348837</td>\n",
       "    </tr>\n",
       "    <tr>\n",
       "      <th>mechanical engineering</th>\n",
       "      <td>36.128492</td>\n",
       "    </tr>\n",
       "    <tr>\n",
       "      <th>medicine</th>\n",
       "      <td>31.472000</td>\n",
       "    </tr>\n",
       "    <tr>\n",
       "      <th>neuroscience</th>\n",
       "      <td>32.786408</td>\n",
       "    </tr>\n",
       "    <tr>\n",
       "      <th>optics</th>\n",
       "      <td>33.983333</td>\n",
       "    </tr>\n",
       "    <tr>\n",
       "      <th>pharmacology</th>\n",
       "      <td>32.460784</td>\n",
       "    </tr>\n",
       "    <tr>\n",
       "      <th>physics</th>\n",
       "      <td>33.706633</td>\n",
       "    </tr>\n",
       "    <tr>\n",
       "      <th>statistics</th>\n",
       "      <td>28.596491</td>\n",
       "    </tr>\n",
       "  </tbody>\n",
       "</table>\n",
       "</div>"
      ],
      "text/plain": [
       "                        waiting_days\n",
       "major                               \n",
       "aerospace engineering      54.096774\n",
       "biochemistry               34.603390\n",
       "bioinformatics             33.280488\n",
       "biology                    32.923171\n",
       "biomedical engineering     31.734450\n",
       "biostatistics              30.781818\n",
       "chemical engineering       33.270042\n",
       "chemistry                  33.535842\n",
       "computer engineering       32.076923\n",
       "computer science           32.219471\n",
       "electrical engineering     33.015905\n",
       "materials science          36.027534\n",
       "mathematics                31.348837\n",
       "mechanical engineering     36.128492\n",
       "medicine                   31.472000\n",
       "neuroscience               32.786408\n",
       "optics                     33.983333\n",
       "pharmacology               32.460784\n",
       "physics                    33.706633\n",
       "statistics                 28.596491"
      ]
     },
     "execution_count": 40,
     "metadata": {},
     "output_type": "execute_result"
    }
   ],
   "source": [
    "valid_big_df_major = valid_big_df[valid_big_df[\"major\"].isin(most_majors)]\n",
    "pd.DataFrame(valid_big_df_major.groupby(\"major\")['waiting_days'].mean())"
   ]
  },
  {
   "cell_type": "code",
   "execution_count": 41,
   "metadata": {
    "ExecuteTime": {
     "end_time": "2019-02-02T14:18:07.160749Z",
     "start_time": "2019-02-02T14:18:06.668066Z"
    }
   },
   "outputs": [
    {
     "data": {
      "image/png": "[encoded data removed]",
      "text/plain": [
       "<Figure size 1080x576 with 1 Axes>"
      ]
     },
     "metadata": {
      "needs_background": "light"
     },
     "output_type": "display_data"
    }
   ],
   "source": [
    "major_counts_majors = pd.DataFrame(valid_big_df_major.groupby(\"major\")['waiting_days'].mean())\n",
    "major_counts_majors = major_counts_majors.reset_index()\n",
    "major_counts_majors.sort_values('waiting_days', inplace=True, ascending=False)\n",
    "ax = major_counts_majors.plot(y='waiting_days',x='major',\n",
    "    kind='bar',title=\"Average waiting days Vs majors\", figsize=(15,8), rot=80, alpha = 0.6, color = 'purple')\n",
    "for p in ax.patches: ax.annotate(np.round(p.get_height(),decimals=2), \n",
    "                                 (p.get_x()+p.get_width()/2., p.get_height()), \n",
    "                                 ha='center', va='center', xytext=(0, 10), textcoords='offset points')"
   ]
  },
  {
   "cell_type": "code",
   "execution_count": 42,
   "metadata": {
    "ExecuteTime": {
     "end_time": "2019-02-09T15:22:20.020773Z",
     "start_time": "2019-02-09T15:22:20.012258Z"
    }
   },
   "outputs": [],
   "source": [
    "major_counts_majors.to_csv(\"wait_majors.csv\", index=False)"
   ]
  },
  {
   "cell_type": "markdown",
   "metadata": {},
   "source": [
    "## Deny pctg vs majors"
   ]
  },
  {
   "cell_type": "code",
   "execution_count": 43,
   "metadata": {
    "ExecuteTime": {
     "end_time": "2019-02-09T15:35:52.436677Z",
     "start_time": "2019-02-09T15:35:52.423535Z"
    }
   },
   "outputs": [],
   "source": [
    "valid_big_df_deny = valid_big_df[valid_big_df['status']=='Reject']\n",
    "counts_majors = pd.DataFrame(valid_big_df_deny.groupby(\"major\")['check_date'].count())\n",
    "counts_majors = counts_majors.reset_index()\n",
    "counts_majors.sort_values('check_date', inplace=True, ascending=False)\n",
    "counts_majors = counts_majors.set_index(\"major\")\n",
    "#the top\n",
    "counts_majors_top = counts_majors[:8].copy()\n",
    "\n",
    "#others\n",
    "counts_majors_other = pd.DataFrame(data = {\n",
    "    'major' : ['others'],\n",
    "    'check_date' : [counts_majors['check_date'][8:].sum()]\n",
    "})\n",
    "counts_majors_other = counts_majors_other.set_index(\"major\")\n",
    "#combining top  with others\n",
    "counts_majors_all = pd.concat([counts_majors_top, counts_majors_other])"
   ]
  },
  {
   "cell_type": "code",
   "execution_count": 44,
   "metadata": {
    "ExecuteTime": {
     "end_time": "2019-02-09T15:35:52.770383Z",
     "start_time": "2019-02-09T15:35:52.764945Z"
    }
   },
   "outputs": [],
   "source": [
    "counts_majors_all = counts_majors_all.reset_index()"
   ]
  },
  {
   "cell_type": "code",
   "execution_count": 45,
   "metadata": {
    "ExecuteTime": {
     "end_time": "2019-02-09T15:35:53.446786Z",
     "start_time": "2019-02-09T15:35:53.439112Z"
    }
   },
   "outputs": [
    {
     "data": {
      "text/html": [
       "<div>\n",
       "<style scoped>\n",
       "    .dataframe tbody tr th:only-of-type {\n",
       "        vertical-align: middle;\n",
       "    }\n",
       "\n",
       "    .dataframe tbody tr th {\n",
       "        vertical-align: top;\n",
       "    }\n",
       "\n",
       "    .dataframe thead th {\n",
       "        text-align: right;\n",
       "    }\n",
       "</style>\n",
       "<table border=\"1\" class=\"dataframe\">\n",
       "  <thead>\n",
       "    <tr style=\"text-align: right;\">\n",
       "      <th></th>\n",
       "      <th>major</th>\n",
       "      <th>check_date</th>\n",
       "    </tr>\n",
       "  </thead>\n",
       "  <tbody>\n",
       "    <tr>\n",
       "      <th>0</th>\n",
       "      <td>mechanical engineering</td>\n",
       "      <td>14</td>\n",
       "    </tr>\n",
       "    <tr>\n",
       "      <th>1</th>\n",
       "      <td>aerospace engineering</td>\n",
       "      <td>9</td>\n",
       "    </tr>\n",
       "    <tr>\n",
       "      <th>2</th>\n",
       "      <td>computer science</td>\n",
       "      <td>8</td>\n",
       "    </tr>\n",
       "    <tr>\n",
       "      <th>3</th>\n",
       "      <td>electrical engineering</td>\n",
       "      <td>5</td>\n",
       "    </tr>\n",
       "    <tr>\n",
       "      <th>4</th>\n",
       "      <td>materials science</td>\n",
       "      <td>4</td>\n",
       "    </tr>\n",
       "    <tr>\n",
       "      <th>5</th>\n",
       "      <td>statistics</td>\n",
       "      <td>2</td>\n",
       "    </tr>\n",
       "    <tr>\n",
       "      <th>6</th>\n",
       "      <td>law</td>\n",
       "      <td>1</td>\n",
       "    </tr>\n",
       "    <tr>\n",
       "      <th>7</th>\n",
       "      <td>physics</td>\n",
       "      <td>1</td>\n",
       "    </tr>\n",
       "    <tr>\n",
       "      <th>8</th>\n",
       "      <td>others</td>\n",
       "      <td>11</td>\n",
       "    </tr>\n",
       "  </tbody>\n",
       "</table>\n",
       "</div>"
      ],
      "text/plain": [
       "                    major  check_date\n",
       "0  mechanical engineering          14\n",
       "1   aerospace engineering           9\n",
       "2        computer science           8\n",
       "3  electrical engineering           5\n",
       "4       materials science           4\n",
       "5              statistics           2\n",
       "6                     law           1\n",
       "7                 physics           1\n",
       "8                  others          11"
      ]
     },
     "execution_count": 45,
     "metadata": {},
     "output_type": "execute_result"
    }
   ],
   "source": [
    "counts_majors_all "
   ]
  },
  {
   "cell_type": "code",
   "execution_count": 46,
   "metadata": {},
   "outputs": [],
   "source": [
    "deny_ratio_by_visa_type = 100*deny_counts_by_visa_type / valid_big_df.groupby(['visa_type'])[\"check_date\"].count()"
   ]
  },
  {
   "cell_type": "code",
   "execution_count": 47,
   "metadata": {
    "ExecuteTime": {
     "end_time": "2019-02-09T15:27:49.393050Z",
     "start_time": "2019-02-09T15:27:49.386201Z"
    }
   },
   "outputs": [],
   "source": [
    "counts_majors_all[\"pctg\"] = 100*counts_majors_all[\"check_date\"]/sum(counts_majors_all[\"check_date\"])"
   ]
  },
  {
   "cell_type": "code",
   "execution_count": 48,
   "metadata": {
    "ExecuteTime": {
     "end_time": "2019-02-09T15:29:29.760846Z",
     "start_time": "2019-02-09T15:29:29.751829Z"
    }
   },
   "outputs": [],
   "source": [
    "counts_majors_all[[\"major\",\"pctg\"]].to_csv(\"rej_major.csv\", index=False)"
   ]
  },
  {
   "cell_type": "code",
   "execution_count": 49,
   "metadata": {
    "ExecuteTime": {
     "end_time": "2019-02-02T11:37:08.738751Z",
     "start_time": "2019-02-02T11:37:08.583581Z"
    }
   },
   "outputs": [
    {
     "data": {
      "image/png": "[encoded data removed]",
      "text/plain": [
       "<Figure size 720x720 with 1 Axes>"
      ]
     },
     "metadata": {},
     "output_type": "display_data"
    }
   ],
   "source": [
    "explode = (0.01, 0.02, 0.05, 0.1, 0.1, 0.2, 0.3, 0.4, 0.1)\n",
    "colors = ['#660033', '#cc0066', '#ff5050', '#ff6600', '#ff9933', '#ffcc00', '#ffff00',\n",
    "          '#cccc00', '#999966']\n",
    "#'#00FF80', \n",
    "#counts.plot(kind='pie', )\n",
    "ax = counts_majors_all.plot.pie(y='check_date',figsize=(10, 10),fontsize=14, colors=colors, \n",
    "                           explode=explode,title='Reject after check vs Majors',\n",
    "                           labels=counts_majors_all.index, autopct='%1.0f%%', pctdistance=1.1, labeldistance=1.2,\n",
    "                           legend=False)\n",
    "plt.ylabel('')\n",
    "ax.title.set_size(20)\n",
    "#plt.legend(labels=counts_majors_all.index, loc=\"best\")"
   ]
  },
  {
   "cell_type": "code",
   "execution_count": 50,
   "metadata": {
    "ExecuteTime": {
     "end_time": "2019-02-02T13:55:03.806483Z",
     "start_time": "2019-02-02T13:55:03.790057Z"
    }
   },
   "outputs": [
    {
     "data": {
      "text/html": [
       "<div>\n",
       "<style scoped>\n",
       "    .dataframe tbody tr th:only-of-type {\n",
       "        vertical-align: middle;\n",
       "    }\n",
       "\n",
       "    .dataframe tbody tr th {\n",
       "        vertical-align: top;\n",
       "    }\n",
       "\n",
       "    .dataframe thead th {\n",
       "        text-align: right;\n",
       "    }\n",
       "</style>\n",
       "<table border=\"1\" class=\"dataframe\">\n",
       "  <thead>\n",
       "    <tr style=\"text-align: right;\">\n",
       "      <th></th>\n",
       "      <th>check_date</th>\n",
       "      <th>complete_date</th>\n",
       "      <th>loc</th>\n",
       "      <th>major</th>\n",
       "      <th>status</th>\n",
       "      <th>type</th>\n",
       "      <th>visa</th>\n",
       "      <th>waiting_days</th>\n",
       "      <th>check_year</th>\n",
       "      <th>check_month</th>\n",
       "      <th>visa_type</th>\n",
       "    </tr>\n",
       "  </thead>\n",
       "  <tbody>\n",
       "    <tr>\n",
       "      <th>1</th>\n",
       "      <td>2015-07-01</td>\n",
       "      <td>2015-07-31</td>\n",
       "      <td>ShenYang</td>\n",
       "      <td>biomedical engineering</td>\n",
       "      <td>Clear</td>\n",
       "      <td>Renewal</td>\n",
       "      <td>F1</td>\n",
       "      <td>30</td>\n",
       "      <td>2015</td>\n",
       "      <td>7</td>\n",
       "      <td>F1_Renewal</td>\n",
       "    </tr>\n",
       "    <tr>\n",
       "      <th>4</th>\n",
       "      <td>2015-07-01</td>\n",
       "      <td>2015-08-19</td>\n",
       "      <td>Others</td>\n",
       "      <td>computer engineering</td>\n",
       "      <td>Clear</td>\n",
       "      <td>Renewal</td>\n",
       "      <td>F1</td>\n",
       "      <td>49</td>\n",
       "      <td>2015</td>\n",
       "      <td>7</td>\n",
       "      <td>F1_Renewal</td>\n",
       "    </tr>\n",
       "    <tr>\n",
       "      <th>5</th>\n",
       "      <td>2015-07-01</td>\n",
       "      <td>2015-08-05</td>\n",
       "      <td>ShenYang</td>\n",
       "      <td>materials science</td>\n",
       "      <td>Clear</td>\n",
       "      <td>New</td>\n",
       "      <td>F1</td>\n",
       "      <td>35</td>\n",
       "      <td>2015</td>\n",
       "      <td>7</td>\n",
       "      <td>F1_New</td>\n",
       "    </tr>\n",
       "    <tr>\n",
       "      <th>9</th>\n",
       "      <td>2015-07-01</td>\n",
       "      <td>2015-08-06</td>\n",
       "      <td>BeiJing</td>\n",
       "      <td>electrical engineering</td>\n",
       "      <td>Clear</td>\n",
       "      <td>Renewal</td>\n",
       "      <td>F1</td>\n",
       "      <td>36</td>\n",
       "      <td>2015</td>\n",
       "      <td>7</td>\n",
       "      <td>F1_Renewal</td>\n",
       "    </tr>\n",
       "    <tr>\n",
       "      <th>11</th>\n",
       "      <td>2015-07-01</td>\n",
       "      <td>2015-07-31</td>\n",
       "      <td>BeiJing</td>\n",
       "      <td>computer science</td>\n",
       "      <td>Clear</td>\n",
       "      <td>New</td>\n",
       "      <td>H1</td>\n",
       "      <td>30</td>\n",
       "      <td>2015</td>\n",
       "      <td>7</td>\n",
       "      <td>H1_New</td>\n",
       "    </tr>\n",
       "  </tbody>\n",
       "</table>\n",
       "</div>"
      ],
      "text/plain": [
       "   check_date complete_date       loc                   major status     type  \\\n",
       "1  2015-07-01    2015-07-31  ShenYang  biomedical engineering  Clear  Renewal   \n",
       "4  2015-07-01    2015-08-19    Others    computer engineering  Clear  Renewal   \n",
       "5  2015-07-01    2015-08-05  ShenYang       materials science  Clear      New   \n",
       "9  2015-07-01    2015-08-06   BeiJing  electrical engineering  Clear  Renewal   \n",
       "11 2015-07-01    2015-07-31   BeiJing        computer science  Clear      New   \n",
       "\n",
       "   visa  waiting_days  check_year  check_month   visa_type  \n",
       "1    F1            30        2015            7  F1_Renewal  \n",
       "4    F1            49        2015            7  F1_Renewal  \n",
       "5    F1            35        2015            7      F1_New  \n",
       "9    F1            36        2015            7  F1_Renewal  \n",
       "11   H1            30        2015            7      H1_New  "
      ]
     },
     "execution_count": 50,
     "metadata": {},
     "output_type": "execute_result"
    }
   ],
   "source": [
    "valid_big_df.head()"
   ]
  },
  {
   "cell_type": "code",
   "execution_count": 51,
   "metadata": {
    "ExecuteTime": {
     "end_time": "2019-02-02T14:09:35.515531Z",
     "start_time": "2019-02-02T14:09:35.496996Z"
    }
   },
   "outputs": [
    {
     "data": {
      "text/html": [
       "<div>\n",
       "<style scoped>\n",
       "    .dataframe tbody tr th:only-of-type {\n",
       "        vertical-align: middle;\n",
       "    }\n",
       "\n",
       "    .dataframe tbody tr th {\n",
       "        vertical-align: top;\n",
       "    }\n",
       "\n",
       "    .dataframe thead th {\n",
       "        text-align: right;\n",
       "    }\n",
       "</style>\n",
       "<table border=\"1\" class=\"dataframe\">\n",
       "  <thead>\n",
       "    <tr style=\"text-align: right;\">\n",
       "      <th></th>\n",
       "      <th></th>\n",
       "      <th>check_date</th>\n",
       "    </tr>\n",
       "    <tr>\n",
       "      <th>major</th>\n",
       "      <th>check_year</th>\n",
       "      <th></th>\n",
       "    </tr>\n",
       "  </thead>\n",
       "  <tbody>\n",
       "    <tr>\n",
       "      <th rowspan=\"9\" valign=\"top\">accounting</th>\n",
       "      <th>2009</th>\n",
       "      <td>3</td>\n",
       "    </tr>\n",
       "    <tr>\n",
       "      <th>2011</th>\n",
       "      <td>1</td>\n",
       "    </tr>\n",
       "    <tr>\n",
       "      <th>2012</th>\n",
       "      <td>1</td>\n",
       "    </tr>\n",
       "    <tr>\n",
       "      <th>2013</th>\n",
       "      <td>1</td>\n",
       "    </tr>\n",
       "    <tr>\n",
       "      <th>2014</th>\n",
       "      <td>5</td>\n",
       "    </tr>\n",
       "    <tr>\n",
       "      <th>2015</th>\n",
       "      <td>4</td>\n",
       "    </tr>\n",
       "    <tr>\n",
       "      <th>2016</th>\n",
       "      <td>8</td>\n",
       "    </tr>\n",
       "    <tr>\n",
       "      <th>2017</th>\n",
       "      <td>22</td>\n",
       "    </tr>\n",
       "    <tr>\n",
       "      <th>2018</th>\n",
       "      <td>12</td>\n",
       "    </tr>\n",
       "    <tr>\n",
       "      <th rowspan=\"10\" valign=\"top\">aerospace engineering</th>\n",
       "      <th>2009</th>\n",
       "      <td>10</td>\n",
       "    </tr>\n",
       "    <tr>\n",
       "      <th>2010</th>\n",
       "      <td>18</td>\n",
       "    </tr>\n",
       "    <tr>\n",
       "      <th>2011</th>\n",
       "      <td>10</td>\n",
       "    </tr>\n",
       "    <tr>\n",
       "      <th>2012</th>\n",
       "      <td>3</td>\n",
       "    </tr>\n",
       "    <tr>\n",
       "      <th>2013</th>\n",
       "      <td>18</td>\n",
       "    </tr>\n",
       "    <tr>\n",
       "      <th>2014</th>\n",
       "      <td>20</td>\n",
       "    </tr>\n",
       "    <tr>\n",
       "      <th>2015</th>\n",
       "      <td>12</td>\n",
       "    </tr>\n",
       "    <tr>\n",
       "      <th>2016</th>\n",
       "      <td>11</td>\n",
       "    </tr>\n",
       "    <tr>\n",
       "      <th>2017</th>\n",
       "      <td>14</td>\n",
       "    </tr>\n",
       "    <tr>\n",
       "      <th>2018</th>\n",
       "      <td>8</td>\n",
       "    </tr>\n",
       "    <tr>\n",
       "      <th rowspan=\"7\" valign=\"top\">analytical chemistry</th>\n",
       "      <th>2010</th>\n",
       "      <td>6</td>\n",
       "    </tr>\n",
       "    <tr>\n",
       "      <th>2011</th>\n",
       "      <td>2</td>\n",
       "    </tr>\n",
       "    <tr>\n",
       "      <th>2013</th>\n",
       "      <td>3</td>\n",
       "    </tr>\n",
       "    <tr>\n",
       "      <th>2015</th>\n",
       "      <td>4</td>\n",
       "    </tr>\n",
       "    <tr>\n",
       "      <th>2016</th>\n",
       "      <td>4</td>\n",
       "    </tr>\n",
       "    <tr>\n",
       "      <th>2017</th>\n",
       "      <td>2</td>\n",
       "    </tr>\n",
       "    <tr>\n",
       "      <th>2018</th>\n",
       "      <td>4</td>\n",
       "    </tr>\n",
       "    <tr>\n",
       "      <th rowspan=\"4\" valign=\"top\">applied physics</th>\n",
       "      <th>2009</th>\n",
       "      <td>1</td>\n",
       "    </tr>\n",
       "    <tr>\n",
       "      <th>2010</th>\n",
       "      <td>2</td>\n",
       "    </tr>\n",
       "    <tr>\n",
       "      <th>2011</th>\n",
       "      <td>1</td>\n",
       "    </tr>\n",
       "    <tr>\n",
       "      <th>2012</th>\n",
       "      <td>1</td>\n",
       "    </tr>\n",
       "    <tr>\n",
       "      <th>...</th>\n",
       "      <th>...</th>\n",
       "      <td>...</td>\n",
       "    </tr>\n",
       "    <tr>\n",
       "      <th rowspan=\"2\" valign=\"top\">software engineer</th>\n",
       "      <th>2017</th>\n",
       "      <td>9</td>\n",
       "    </tr>\n",
       "    <tr>\n",
       "      <th>2018</th>\n",
       "      <td>8</td>\n",
       "    </tr>\n",
       "    <tr>\n",
       "      <th rowspan=\"9\" valign=\"top\">software engineering</th>\n",
       "      <th>2010</th>\n",
       "      <td>2</td>\n",
       "    </tr>\n",
       "    <tr>\n",
       "      <th>2011</th>\n",
       "      <td>1</td>\n",
       "    </tr>\n",
       "    <tr>\n",
       "      <th>2012</th>\n",
       "      <td>1</td>\n",
       "    </tr>\n",
       "    <tr>\n",
       "      <th>2013</th>\n",
       "      <td>3</td>\n",
       "    </tr>\n",
       "    <tr>\n",
       "      <th>2014</th>\n",
       "      <td>2</td>\n",
       "    </tr>\n",
       "    <tr>\n",
       "      <th>2015</th>\n",
       "      <td>3</td>\n",
       "    </tr>\n",
       "    <tr>\n",
       "      <th>2016</th>\n",
       "      <td>7</td>\n",
       "    </tr>\n",
       "    <tr>\n",
       "      <th>2017</th>\n",
       "      <td>11</td>\n",
       "    </tr>\n",
       "    <tr>\n",
       "      <th>2018</th>\n",
       "      <td>19</td>\n",
       "    </tr>\n",
       "    <tr>\n",
       "      <th rowspan=\"10\" valign=\"top\">statistics</th>\n",
       "      <th>2009</th>\n",
       "      <td>2</td>\n",
       "    </tr>\n",
       "    <tr>\n",
       "      <th>2010</th>\n",
       "      <td>9</td>\n",
       "    </tr>\n",
       "    <tr>\n",
       "      <th>2011</th>\n",
       "      <td>8</td>\n",
       "    </tr>\n",
       "    <tr>\n",
       "      <th>2012</th>\n",
       "      <td>4</td>\n",
       "    </tr>\n",
       "    <tr>\n",
       "      <th>2013</th>\n",
       "      <td>13</td>\n",
       "    </tr>\n",
       "    <tr>\n",
       "      <th>2014</th>\n",
       "      <td>4</td>\n",
       "    </tr>\n",
       "    <tr>\n",
       "      <th>2015</th>\n",
       "      <td>4</td>\n",
       "    </tr>\n",
       "    <tr>\n",
       "      <th>2016</th>\n",
       "      <td>16</td>\n",
       "    </tr>\n",
       "    <tr>\n",
       "      <th>2017</th>\n",
       "      <td>18</td>\n",
       "    </tr>\n",
       "    <tr>\n",
       "      <th>2018</th>\n",
       "      <td>36</td>\n",
       "    </tr>\n",
       "    <tr>\n",
       "      <th rowspan=\"9\" valign=\"top\">telecommunication</th>\n",
       "      <th>2010</th>\n",
       "      <td>3</td>\n",
       "    </tr>\n",
       "    <tr>\n",
       "      <th>2011</th>\n",
       "      <td>2</td>\n",
       "    </tr>\n",
       "    <tr>\n",
       "      <th>2012</th>\n",
       "      <td>2</td>\n",
       "    </tr>\n",
       "    <tr>\n",
       "      <th>2013</th>\n",
       "      <td>1</td>\n",
       "    </tr>\n",
       "    <tr>\n",
       "      <th>2014</th>\n",
       "      <td>2</td>\n",
       "    </tr>\n",
       "    <tr>\n",
       "      <th>2015</th>\n",
       "      <td>5</td>\n",
       "    </tr>\n",
       "    <tr>\n",
       "      <th>2016</th>\n",
       "      <td>2</td>\n",
       "    </tr>\n",
       "    <tr>\n",
       "      <th>2017</th>\n",
       "      <td>3</td>\n",
       "    </tr>\n",
       "    <tr>\n",
       "      <th>2018</th>\n",
       "      <td>6</td>\n",
       "    </tr>\n",
       "  </tbody>\n",
       "</table>\n",
       "<p>752 rows × 1 columns</p>\n",
       "</div>"
      ],
      "text/plain": [
       "                                  check_date\n",
       "major                 check_year            \n",
       "accounting            2009                 3\n",
       "                      2011                 1\n",
       "                      2012                 1\n",
       "                      2013                 1\n",
       "                      2014                 5\n",
       "                      2015                 4\n",
       "                      2016                 8\n",
       "                      2017                22\n",
       "                      2018                12\n",
       "aerospace engineering 2009                10\n",
       "                      2010                18\n",
       "                      2011                10\n",
       "                      2012                 3\n",
       "                      2013                18\n",
       "                      2014                20\n",
       "                      2015                12\n",
       "                      2016                11\n",
       "                      2017                14\n",
       "                      2018                 8\n",
       "analytical chemistry  2010                 6\n",
       "                      2011                 2\n",
       "                      2013                 3\n",
       "                      2015                 4\n",
       "                      2016                 4\n",
       "                      2017                 2\n",
       "                      2018                 4\n",
       "applied physics       2009                 1\n",
       "                      2010                 2\n",
       "                      2011                 1\n",
       "                      2012                 1\n",
       "...                                      ...\n",
       "software engineer     2017                 9\n",
       "                      2018                 8\n",
       "software engineering  2010                 2\n",
       "                      2011                 1\n",
       "                      2012                 1\n",
       "                      2013                 3\n",
       "                      2014                 2\n",
       "                      2015                 3\n",
       "                      2016                 7\n",
       "                      2017                11\n",
       "                      2018                19\n",
       "statistics            2009                 2\n",
       "                      2010                 9\n",
       "                      2011                 8\n",
       "                      2012                 4\n",
       "                      2013                13\n",
       "                      2014                 4\n",
       "                      2015                 4\n",
       "                      2016                16\n",
       "                      2017                18\n",
       "                      2018                36\n",
       "telecommunication     2010                 3\n",
       "                      2011                 2\n",
       "                      2012                 2\n",
       "                      2013                 1\n",
       "                      2014                 2\n",
       "                      2015                 5\n",
       "                      2016                 2\n",
       "                      2017                 3\n",
       "                      2018                 6\n",
       "\n",
       "[752 rows x 1 columns]"
      ]
     },
     "execution_count": 51,
     "metadata": {},
     "output_type": "execute_result"
    }
   ],
   "source": [
    "valid_big_df[['major', 'check_date','check_year']].groupby([\"major\",\"check_year\"]).count()"
   ]
  },
  {
   "cell_type": "markdown",
   "metadata": {},
   "source": [
    "# Personal"
   ]
  },
  {
   "cell_type": "code",
   "execution_count": 52,
   "metadata": {
    "ExecuteTime": {
     "end_time": "2019-02-02T12:24:07.091117Z",
     "start_time": "2019-02-02T12:24:07.072292Z"
    }
   },
   "outputs": [
    {
     "data": {
      "text/html": [
       "<div>\n",
       "<style scoped>\n",
       "    .dataframe tbody tr th:only-of-type {\n",
       "        vertical-align: middle;\n",
       "    }\n",
       "\n",
       "    .dataframe tbody tr th {\n",
       "        vertical-align: top;\n",
       "    }\n",
       "\n",
       "    .dataframe thead th {\n",
       "        text-align: right;\n",
       "    }\n",
       "</style>\n",
       "<table border=\"1\" class=\"dataframe\">\n",
       "  <thead>\n",
       "    <tr style=\"text-align: right;\">\n",
       "      <th></th>\n",
       "      <th>check_date</th>\n",
       "      <th>complete_date</th>\n",
       "      <th>loc</th>\n",
       "      <th>major</th>\n",
       "      <th>status</th>\n",
       "      <th>type</th>\n",
       "      <th>visa</th>\n",
       "      <th>waiting_days</th>\n",
       "      <th>check_year</th>\n",
       "      <th>check_month</th>\n",
       "      <th>visa_type</th>\n",
       "    </tr>\n",
       "  </thead>\n",
       "  <tbody>\n",
       "    <tr>\n",
       "      <th>1</th>\n",
       "      <td>2015-07-01</td>\n",
       "      <td>2015-07-31</td>\n",
       "      <td>ShenYang</td>\n",
       "      <td>biomedical engineering</td>\n",
       "      <td>Clear</td>\n",
       "      <td>Renewal</td>\n",
       "      <td>F1</td>\n",
       "      <td>30</td>\n",
       "      <td>2015</td>\n",
       "      <td>7</td>\n",
       "      <td>F1_Renewal</td>\n",
       "    </tr>\n",
       "    <tr>\n",
       "      <th>4</th>\n",
       "      <td>2015-07-01</td>\n",
       "      <td>2015-08-19</td>\n",
       "      <td>Others</td>\n",
       "      <td>computer engineering</td>\n",
       "      <td>Clear</td>\n",
       "      <td>Renewal</td>\n",
       "      <td>F1</td>\n",
       "      <td>49</td>\n",
       "      <td>2015</td>\n",
       "      <td>7</td>\n",
       "      <td>F1_Renewal</td>\n",
       "    </tr>\n",
       "    <tr>\n",
       "      <th>5</th>\n",
       "      <td>2015-07-01</td>\n",
       "      <td>2015-08-05</td>\n",
       "      <td>ShenYang</td>\n",
       "      <td>materials science</td>\n",
       "      <td>Clear</td>\n",
       "      <td>New</td>\n",
       "      <td>F1</td>\n",
       "      <td>35</td>\n",
       "      <td>2015</td>\n",
       "      <td>7</td>\n",
       "      <td>F1_New</td>\n",
       "    </tr>\n",
       "    <tr>\n",
       "      <th>9</th>\n",
       "      <td>2015-07-01</td>\n",
       "      <td>2015-08-06</td>\n",
       "      <td>BeiJing</td>\n",
       "      <td>electrical engineering</td>\n",
       "      <td>Clear</td>\n",
       "      <td>Renewal</td>\n",
       "      <td>F1</td>\n",
       "      <td>36</td>\n",
       "      <td>2015</td>\n",
       "      <td>7</td>\n",
       "      <td>F1_Renewal</td>\n",
       "    </tr>\n",
       "    <tr>\n",
       "      <th>11</th>\n",
       "      <td>2015-07-01</td>\n",
       "      <td>2015-07-31</td>\n",
       "      <td>BeiJing</td>\n",
       "      <td>computer science</td>\n",
       "      <td>Clear</td>\n",
       "      <td>New</td>\n",
       "      <td>H1</td>\n",
       "      <td>30</td>\n",
       "      <td>2015</td>\n",
       "      <td>7</td>\n",
       "      <td>H1_New</td>\n",
       "    </tr>\n",
       "  </tbody>\n",
       "</table>\n",
       "</div>"
      ],
      "text/plain": [
       "   check_date complete_date       loc                   major status     type  \\\n",
       "1  2015-07-01    2015-07-31  ShenYang  biomedical engineering  Clear  Renewal   \n",
       "4  2015-07-01    2015-08-19    Others    computer engineering  Clear  Renewal   \n",
       "5  2015-07-01    2015-08-05  ShenYang       materials science  Clear      New   \n",
       "9  2015-07-01    2015-08-06   BeiJing  electrical engineering  Clear  Renewal   \n",
       "11 2015-07-01    2015-07-31   BeiJing        computer science  Clear      New   \n",
       "\n",
       "   visa  waiting_days  check_year  check_month   visa_type  \n",
       "1    F1            30        2015            7  F1_Renewal  \n",
       "4    F1            49        2015            7  F1_Renewal  \n",
       "5    F1            35        2015            7      F1_New  \n",
       "9    F1            36        2015            7  F1_Renewal  \n",
       "11   H1            30        2015            7      H1_New  "
      ]
     },
     "execution_count": 52,
     "metadata": {},
     "output_type": "execute_result"
    }
   ],
   "source": [
    "valid_big_df.head()"
   ]
  },
  {
   "cell_type": "code",
   "execution_count": 53,
   "metadata": {
    "ExecuteTime": {
     "end_time": "2019-02-02T12:30:16.753800Z",
     "start_time": "2019-02-02T12:30:16.734684Z"
    }
   },
   "outputs": [],
   "source": [
    "import datetime\n",
    "import dateutil.relativedelta"
   ]
  },
  {
   "cell_type": "code",
   "execution_count": 54,
   "metadata": {
    "ExecuteTime": {
     "end_time": "2019-02-02T12:32:22.254767Z",
     "start_time": "2019-02-02T12:32:22.240096Z"
    }
   },
   "outputs": [
    {
     "name": "stdout",
     "output_type": "stream",
     "text": [
      "Enter a date in YYYY-MM-DD format2016-05-05\n",
      "      check_date complete_date       loc                   major status  \\\n",
      "22403 2016-05-05    2016-05-24   BeiJing    chemical engineering  Clear   \n",
      "22404 2016-05-05    2016-06-01  ShangHai  electrical engineering  Clear   \n",
      "22405 2016-05-05    2016-05-23   BeiJing               chemistry  Clear   \n",
      "22406 2016-05-05    2016-05-25   ChengDu  industrial engineering  Clear   \n",
      "22408 2016-05-05    2016-06-14   ChengDu  electrical engineering  Clear   \n",
      "22409 2016-05-05    2016-06-06  ShangHai               chemistry  Clear   \n",
      "22410 2016-05-05    2016-05-31  ShangHai    chemical engineering  Clear   \n",
      "\n",
      "          type visa  waiting_days  check_year  check_month   visa_type  \n",
      "22403      New   B2            19        2016            5      B2_New  \n",
      "22404      New   F1            27        2016            5      F1_New  \n",
      "22405  Renewal   F1            18        2016            5  F1_Renewal  \n",
      "22406      New   B2            20        2016            5      B2_New  \n",
      "22408      New   H1            40        2016            5      H1_New  \n",
      "22409      New   F1            32        2016            5      F1_New  \n",
      "22410  Renewal   J1            26        2016            5  J1_Renewal  \n"
     ]
    }
   ],
   "source": [
    "date_entry = input('Enter a date in YYYY-MM-DD format')\n",
    "year, month, day = map(int, date_entry.split('-'))\n",
    "d2 = pd.Timestamp(year, month, day)\n",
    "print(valid_big_df[valid_big_df['check_date'] == d2])"
   ]
  },
  {
   "cell_type": "code",
   "execution_count": 55,
   "metadata": {
    "ExecuteTime": {
     "end_time": "2019-02-02T12:40:32.047372Z",
     "start_time": "2019-02-02T12:40:32.040415Z"
    }
   },
   "outputs": [
    {
     "data": {
      "text/plain": [
       "array(['Renewal', 'New', nan], dtype=object)"
      ]
     },
     "execution_count": 55,
     "metadata": {},
     "output_type": "execute_result"
    }
   ],
   "source": [
    "valid_big_df['type'].unique()"
   ]
  },
  {
   "cell_type": "code",
   "execution_count": 56,
   "metadata": {
    "ExecuteTime": {
     "end_time": "2019-02-02T12:40:58.428192Z",
     "start_time": "2019-02-02T12:40:58.424900Z"
    }
   },
   "outputs": [],
   "source": [
    "# Personal Info\n",
    "check_date = '2019-01-07'\n",
    "visa = 'F1'\n",
    "v_type = 'Renewal'\n",
    "major = 'computer science'\n",
    "loc = 'BeiJing'"
   ]
  },
  {
   "cell_type": "code",
   "execution_count": 57,
   "metadata": {
    "ExecuteTime": {
     "end_time": "2019-02-02T12:45:26.608140Z",
     "start_time": "2019-02-02T12:45:26.590255Z"
    }
   },
   "outputs": [
    {
     "name": "stdout",
     "output_type": "stream",
     "text": [
      "31.4375\n"
     ]
    }
   ],
   "source": [
    "check_date_time = datetime.datetime.strptime(check_date, \"%Y-%m-%d\")\n",
    "check_month_ago = check_date_time - dateutil.relativedelta.relativedelta(months=1)\n",
    "\n",
    "\n",
    "P_valid_big_df = valid_big_df[(valid_big_df['check_date'] >= check_month_ago) & \n",
    "                             (valid_big_df['check_date'] <= check_date_time) &\n",
    "                             (valid_big_df['visa'] == visa) & \n",
    "                             (valid_big_df['type'] == v_type) &\n",
    "                             (valid_big_df['major'] == major) &\n",
    "                             (valid_big_df['loc'] == loc)]\n",
    "\n",
    "expected_waiting_time = P_valid_big_df[\"waiting_days\"].mean()\n",
    "\n",
    "print(expected_waiting_time)"
   ]
  },
  {
   "cell_type": "code",
   "execution_count": 58,
   "metadata": {
    "ExecuteTime": {
     "end_time": "2019-02-02T13:42:08.357979Z",
     "start_time": "2019-02-02T13:42:08.218979Z"
    },
    "scrolled": false
   },
   "outputs": [
    {
     "data": {
      "text/plain": [
       "'medians = P_valid_big_df[\"waiting_days\"].median()\\nmedian_labels = str(np.round(medians, 2)) \\npos = range(1)\\nax.text(3+0.2, 4.5, median_labels, \\n        horizontalalignment=\\'center\\', size=\\'x-small\\', color=\\'w\\', weight=\\'semibold\\')'"
      ]
     },
     "execution_count": 58,
     "metadata": {},
     "output_type": "execute_result"
    },
    {
     "data": {
      "image/png": "[encoded data removed]",
      "text/plain": [
       "<Figure size 432x288 with 1 Axes>"
      ]
     },
     "metadata": {},
     "output_type": "display_data"
    }
   ],
   "source": [
    "import seaborn as sns\n",
    "sns.set(style=\"whitegrid\")\n",
    "ax = sns.boxplot(x=P_valid_big_df[\"waiting_days\"])\n",
    "\"\"\"medians = P_valid_big_df[\"waiting_days\"].median()\n",
    "median_labels = str(np.round(medians, 2)) \n",
    "pos = range(1)\n",
    "ax.text(3+0.2, 4.5, median_labels, \n",
    "        horizontalalignment='center', size='x-small', color='w', weight='semibold')\"\"\""
   ]
  }
 ],
 "metadata": {
  "kernelspec": {
   "display_name": "Python 3",
   "language": "python",
   "name": "python3"
  },
  "language_info": {
   "codemirror_mode": {
    "name": "ipython",
    "version": 3
   },
   "file_extension": ".py",
   "mimetype": "text/x-python",
   "name": "python",
   "nbconvert_exporter": "python",
   "pygments_lexer": "ipython3",
   "version": "3.7.3"
  }
 },
 "nbformat": 4,
 "nbformat_minor": 2
}
