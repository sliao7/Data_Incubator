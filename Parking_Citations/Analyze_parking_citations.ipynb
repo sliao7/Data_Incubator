{
 "cells": [
  {
   "cell_type": "code",
   "execution_count": 348,
   "metadata": {},
   "outputs": [],
   "source": [
    "# find the list of japanese makers\n",
    "import wikipedia\n",
    "content = wikipedia.page('List of automobile manufacturers of Japan')\n",
    "makers = pd.DataFrame(content.content.split('\\n'))\n",
    "makers.columns = ['maker']\n",
    "makers['maker']= makers.maker.str.replace(r\"\\(.*\\)\",\"\").str.lower()\n",
    "makers = makers.loc[makers['maker'].apply(lambda x: len(x.strip().split(' ')) == 1)]\n",
    "makers['maker'] = makers['maker'].apply(str).apply(lambda x: x[:3])\n",
    "makers['maker'].replace('', np.nan, inplace=True)\n",
    "makers.dropna(inplace = True)\n",
    "japanese_makers = makers.maker.sort_values().unique()"
   ]
  },
  {
   "cell_type": "code",
   "execution_count": 450,
   "metadata": {},
   "outputs": [],
   "source": [
    "import pandas as pd\n",
    "import numpy as np\n",
    "from scipy import stats\n",
    "import matplotlib\n",
    "%matplotlib inline"
   ]
  },
  {
   "cell_type": "code",
   "execution_count": 63,
   "metadata": {},
   "outputs": [],
   "source": [
    "df_original = pd.read_csv('Parking_Citations.csv')\n",
    "df_original['ImportDate'] = pd.to_datetime(df_original.ImportDate)"
   ]
  },
  {
   "cell_type": "code",
   "execution_count": 475,
   "metadata": {},
   "outputs": [],
   "source": [
    "ts = pd.to_datetime('01/01/2019')\n",
    "df_original = df_original.loc[df_original.ImportDate < ts,:]\n",
    "\n",
    "num_total_citations = df_original.shape[0]\n",
    "df_original['ViolDate'] = pd.to_datetime(df_original.ViolDate)"
   ]
  },
  {
   "cell_type": "code",
   "execution_count": 477,
   "metadata": {},
   "outputs": [
    {
     "name": "stdout",
     "output_type": "stream",
     "text": [
      "Linear regression slope: 11219.690909090908\n"
     ]
    }
   ],
   "source": [
    "df_original['ViolYear'] = df_original['ViolDate'].dt.year\n",
    "\n",
    "num_for_years = pd.DataFrame(df_original.groupby('ViolYear').size())\n",
    "num_for_years.reset_index(inplace = True)\n",
    "num_for_years.rename(columns={0: \"count\"}, inplace = True)\n",
    "num_for_years['ViolYear'] = num_for_years.ViolYear.apply(int)\n",
    "\n",
    "num_between_2004_and_2014 = num_for_years.loc[num_for_years.ViolYear <= 2014].loc[2004 <= num_for_years.ViolYear]\n",
    "\n",
    "x = num_between_2004_and_2014['ViolYear']\n",
    "y = num_between_2004_and_2014['count']\n",
    "\n",
    "slope, intercept, r_value, p_value, std_err = stats.linregress(x,y)\n",
    "print('Linear regression slope:', slope)"
   ]
  },
  {
   "cell_type": "code",
   "execution_count": 478,
   "metadata": {},
   "outputs": [
    {
     "data": {
      "text/plain": [
       "<matplotlib.axes._subplots.AxesSubplot at 0x150499550>"
      ]
     },
     "execution_count": 478,
     "metadata": {},
     "output_type": "execute_result"
    },
    {
     "data": {
      "image/png": "[encoded data removed]",
      "text/plain": [
       "<Figure size 432x288 with 1 Axes>"
      ]
     },
     "metadata": {
      "needs_background": "light"
     },
     "output_type": "display_data"
    }
   ],
   "source": [
    "# plot the scatter \n",
    "num_between_2004_and_2014.plot.scatter('ViolYear','count') "
   ]
  },
  {
   "cell_type": "code",
   "execution_count": 479,
   "metadata": {},
   "outputs": [],
   "source": [
    "col_index = ['Citation','Make','ViolFine', 'OpenPenalty', 'ImportDate',\n",
    "            'PoliceDistrict']\n",
    "df = df_original[col_index]"
   ]
  },
  {
   "cell_type": "code",
   "execution_count": 480,
   "metadata": {},
   "outputs": [
    {
     "name": "stdout",
     "output_type": "stream",
     "text": [
      "mean violance fine: 49.1241521102\n"
     ]
    }
   ],
   "source": [
    "# The mean violance Fine\n",
    "print('mean violance fine:',\"%.10f\" % df.ViolFine.mean())"
   ]
  },
  {
   "cell_type": "code",
   "execution_count": 483,
   "metadata": {},
   "outputs": [
    {
     "name": "stdout",
     "output_type": "stream",
     "text": [
      "percentile_81: 480.0000000000\n"
     ]
    }
   ],
   "source": [
    "# The number of rows with nonzero penalty fees\n",
    "# df.OpenPenalty.astype(bool).sum(axis=0)\n",
    "\n",
    "# The rows with nonzero penalty fees\n",
    "# The 81th percentile of the penalty fees in the group of vehicles with open penalty fees\n",
    "percent81 = df.OpenPenalty.loc[df.OpenPenalty.astype(bool) == 1].quantile(.81)\n",
    "print('percentile_81:',\"%.10f\" % percent81)"
   ]
  },
  {
   "cell_type": "code",
   "execution_count": 491,
   "metadata": {},
   "outputs": [
    {
     "name": "stdout",
     "output_type": "stream",
     "text": [
      "Highest mean in nine police district: ViolFine    60.89528\n",
      "Name: southwestern, dtype: float64\n"
     ]
    }
   ],
   "source": [
    "# lowercase the PoliceDistricts\n",
    "len(df.PoliceDistrict.unique())\n",
    "df.dropna(subset=['PoliceDistrict'],inplace = True)\n",
    "df['PoliceDistrict'] = df['PoliceDistrict'].str.lower()\n",
    "\n",
    "# group the data by PoliceDistricts\n",
    "grouped = df[['PoliceDistrict','ViolFine']].groupby('PoliceDistrict')\n",
    "\n",
    "# Sort the groups by ViolFines\n",
    "highest_mean = grouped.mean().sort_values(by=['ViolFine'], ascending = False).iloc[0]\n",
    "print('Highest mean in nine police district:', highest_mean)"
   ]
  },
  {
   "cell_type": "code",
   "execution_count": 489,
   "metadata": {},
   "outputs": [
    {
     "name": "stdout",
     "output_type": "stream",
     "text": [
      "proportion: 0.0722329530\n"
     ]
    }
   ],
   "source": [
    "ts1 = pd.to_datetime('01/01/2017')\n",
    "ts2 = pd.to_datetime('01/01/2018')\n",
    "df.dropna(subset=['Make'], inplace = True)\n",
    "df['Make'] = df['Make'].str.lower()\n",
    "\n",
    "# replace the name of the makes by the first three letters\n",
    "df['Make'] = df.Make.apply(str).apply(lambda x: x[:3])\n",
    "\n",
    "# Only consider the cases in 2017\n",
    "df = df.loc[df.ImportDate < ts2,:].loc[ts1 <= df.ImportDate,:]\n",
    "\n",
    "Grouped_by_Make = df.groupby('Make', as_index=True)\n",
    "\n",
    "# find the list of top ten car makers\n",
    "top_ten_ind = Grouped_by_Make.size().sort_values(ascending = False)[:10].index\n",
    "\n",
    "# find the japanese makes in top ten list\n",
    "japanese_top_ten_ind = [make for make in top_ten_ind if make in japanese_makers]\n",
    "\n",
    "# find the number of cases whose car make is from japan and is in top ten\n",
    "num_japanese_in_top_ten = df.loc[df['Make'].isin(japanese_top_ten_ind)].shape[0]\n",
    "\n",
    "# calculate the proportions for the above cases in all citation cases\n",
    "proportion = num_japanese_in_top_ten/num_total_citations\n",
    "print('proportion:',\"%.10f\" % proportion)"
   ]
  },
  {
   "cell_type": "code",
   "execution_count": null,
   "metadata": {},
   "outputs": [],
   "source": []
  }
 ],
 "metadata": {
  "kernelspec": {
   "display_name": "Python 3",
   "language": "python",
   "name": "python3"
  },
  "language_info": {
   "codemirror_mode": {
    "name": "ipython",
    "version": 3
   },
   "file_extension": ".py",
   "mimetype": "text/x-python",
   "name": "python",
   "nbconvert_exporter": "python",
   "pygments_lexer": "ipython3",
   "version": "3.7.3"
  }
 },
 "nbformat": 4,
 "nbformat_minor": 2
}
